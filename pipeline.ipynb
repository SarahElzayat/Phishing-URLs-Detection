{
 "cells": [
  {
   "cell_type": "markdown",
   "metadata": {},
   "source": [
    "## 1- Read Dataset"
   ]
  },
  {
   "cell_type": "code",
   "execution_count": 16,
   "metadata": {},
   "outputs": [],
   "source": [
    "from pyspark import SparkContext, SparkConf\n",
    "from pyspark.sql import SparkSession\n",
    "import matplotlib.pyplot as plt\n",
    "import seaborn as sns\n"
   ]
  },
  {
   "cell_type": "markdown",
   "metadata": {},
   "source": [
    "## Uncomment to read the dataset online"
   ]
  },
  {
   "cell_type": "code",
   "execution_count": 3,
   "metadata": {},
   "outputs": [],
   "source": [
    "\n",
    "#!pip install ucimlrepo\n",
    "# from ucimlrepo import fetch_ucirepo \n",
    "  \n",
    "# # fetch dataset \n",
    "# phiusiil_phishing_url_website = fetch_ucirepo(id=967) \n",
    "  \n",
    "# # data (as pandas dataframes) \n",
    "# X = phiusiil_phishing_url_website.data.features \n",
    "# y = phiusiil_phishing_url_website.data.targets \n",
    "  \n",
    "# # metadata \n",
    "# print(phiusiil_phishing_url_website.metadata) \n",
    "  \n",
    "# # variable information \n",
    "# print(phiusiil_phishing_url_website.variables) \n"
   ]
  },
  {
   "cell_type": "markdown",
   "metadata": {},
   "source": [
    "## 2- Preprocessing & Visualization"
   ]
  },
  {
   "cell_type": "code",
   "execution_count": 17,
   "metadata": {},
   "outputs": [],
   "source": [
    "# load the dataset\n",
    "DATASET_PATH = \"./dataset/PhiUSIIL_Phishing_URL_Dataset.csv\"\n"
   ]
  },
  {
   "cell_type": "code",
   "execution_count": 28,
   "metadata": {},
   "outputs": [],
   "source": [
    "# find spark\n",
    "spark = SparkSession.builder.appName(\"PhishingURL\").getOrCreate()\n",
    "sc = spark.sparkContext\n"
   ]
  },
  {
   "cell_type": "code",
   "execution_count": 29,
   "metadata": {},
   "outputs": [],
   "source": [
    "# read dataset\n",
    "phishing_rdd = spark.read.csv(DATASET_PATH, header=True, inferSchema=True)"
   ]
  },
  {
   "cell_type": "code",
   "execution_count": 31,
   "metadata": {},
   "outputs": [
    {
     "name": "stdout",
     "output_type": "stream",
     "text": [
      "+----------+--------------------+---------+--------------------+------------+----------+---+------------------+--------------------+-----------------+-----------+---------+-------------+--------------+------------------+----------------+----------------+----------------+---------------+---------------+---------------+--------------+------------------+--------------------------+---------------------+-------+----------+-----------------+--------+--------------------+---------------------+------------------+----------+------+------------+---------------+----------------+--------------+---------+----------+---------------------+------------+---------------+---------------+----------------+----+---+------+----------------+---------+-------+------+-----------+------------+---------------+-----+\n",
      "|  FILENAME|                 URL|URLLength|              Domain|DomainLength|IsDomainIP|TLD|URLSimilarityIndex|CharContinuationRate|TLDLegitimateProb|URLCharProb|TLDLength|NoOfSubDomain|HasObfuscation|NoOfObfuscatedChar|ObfuscationRatio|NoOfLettersInURL|LetterRatioInURL|NoOfDegitsInURL|DegitRatioInURL|NoOfEqualsInURL|NoOfQMarkInURL|NoOfAmpersandInURL|NoOfOtherSpecialCharsInURL|SpacialCharRatioInURL|IsHTTPS|LineOfCode|LargestLineLength|HasTitle|               Title|DomainTitleMatchScore|URLTitleMatchScore|HasFavicon|Robots|IsResponsive|NoOfURLRedirect|NoOfSelfRedirect|HasDescription|NoOfPopup|NoOfiFrame|HasExternalFormSubmit|HasSocialNet|HasSubmitButton|HasHiddenFields|HasPasswordField|Bank|Pay|Crypto|HasCopyrightInfo|NoOfImage|NoOfCSS|NoOfJS|NoOfSelfRef|NoOfEmptyRef|NoOfExternalRef|label|\n",
      "+----------+--------------------+---------+--------------------+------------+----------+---+------------------+--------------------+-----------------+-----------+---------+-------------+--------------+------------------+----------------+----------------+----------------+---------------+---------------+---------------+--------------+------------------+--------------------------+---------------------+-------+----------+-----------------+--------+--------------------+---------------------+------------------+----------+------+------------+---------------+----------------+--------------+---------+----------+---------------------+------------+---------------+---------------+----------------+----+---+------+----------------+---------+-------+------+-----------+------------+---------------+-----+\n",
      "|521848.txt|https://www.south...|       31|www.southbankmosa...|          24|         0|com|             100.0|                 1.0|        0.5229071|0.061933179|        3|            1|             0|                 0|             0.0|              18|           0.581|              0|            0.0|              0|             0|                 0|                         1|                0.032|      1|       558|             9381|       1|à¸‚à¹ˆà¸²à¸§à¸ªà¸...|                  0.0|               0.0|         0|     1|           1|              0|               0|             0|        0|         1|                    0|           0|              1|              1|               0|   1|  0|     0|               1|       34|     20|    28|        119|           0|            124|    1|\n",
      "| 31372.txt|https://www.uni-m...|       23|    www.uni-mainz.de|          16|         0| de|             100.0|         0.666666667|        0.0326503|0.050207214|        2|            1|             0|                 0|             0.0|               9|           0.391|              0|            0.0|              0|             0|                 0|                         2|                0.087|      1|       618|             9381|       1|johannes gutenber...|          55.55555556|       55.55555556|         1|     1|           0|              0|               0|             0|        0|         0|                    0|           1|              1|              0|               0|   0|  0|     0|               1|       50|      9|     8|         39|           0|            217|    1|\n",
      "|597387.txt|https://www.voice...|       29|www.voicefmradio....|          22|         0| uk|             100.0|         0.866666667|         0.028555| 0.06412872|        2|            2|             0|                 0|             0.0|              15|           0.517|              0|            0.0|              0|             0|                 0|                         2|                0.069|      1|       467|              682|       1|voice fm southampton|          46.66666667|       46.66666667|         0|     1|           1|              0|               0|             1|        0|         0|                    0|           0|              1|              1|               0|   0|  0|     0|               1|       10|      2|     7|         42|           2|              5|    1|\n",
      "|554095.txt|https://www.sfnmj...|       26| www.sfnmjournal.com|          19|         0|com|             100.0|                 1.0|        0.5229071|0.057605756|        3|            1|             0|                 0|             0.0|              13|             0.5|              0|            0.0|              0|             0|                 0|                         1|                0.038|      1|      6356|            26824|       1|home page: semina...|                  0.0|               0.0|         0|     1|           1|              0|               0|             0|        1|        12|                    0|           1|              1|              1|               0|   0|  1|     1|               1|        3|     27|    15|         22|           1|             31|    1|\n",
      "|151578.txt|https://www.rewil...|       33|www.rewildingarge...|          26|         0|org|             100.0|                 1.0|        0.0799628|0.059441389|        3|            1|             0|                 0|             0.0|              20|           0.606|              0|            0.0|              0|             0|                 0|                         1|                 0.03|      1|      6089|            28404|       1|fundaciÃ³n rewild...|                100.0|             100.0|         0|     1|           1|              1|               1|             1|        0|         2|                    0|           1|              1|              1|               0|   1|  1|     0|               1|      244|     15|    34|         72|           1|             85|    1|\n",
      "| 23107.txt|https://www.globa...|       30|www.globalreporti...|          23|         0|org|             100.0|                 1.0|        0.0799628|0.060614474|        3|            1|             0|                 0|             0.0|              17|           0.567|              0|            0.0|              0|             0|                 0|                         1|                0.033|      1|      1210|              737|       1|          gri - home|                  0.0|               0.0|         0|     0|           1|              0|               0|             1|        1|         1|                    0|           1|              0|              1|               0|   0|  0|     0|               1|       35|      1|    11|         86|           0|             14|    1|\n",
      "| 23034.txt|https://www.saffr...|       25|  www.saffronart.com|          18|         0|com|             100.0|                 1.0|        0.5229071|0.063549404|        3|            1|             0|                 0|             0.0|              12|            0.48|              0|            0.0|              0|             0|                 0|                         1|                 0.04|      1|      1024|              984|       1|                   0|                  0.0|               0.0|         1|     0|           1|              1|               1|             0|        2|         4|                    0|           1|              0|              1|               0|   0|  0|     0|               1|       32|      4|    14|         44|           2|             17|    1|\n",
      "|696732.txt|https://www.nerds...|       25|  www.nerdscandy.com|          18|         0|com|             100.0|                 1.0|        0.5229071|  0.0604856|        3|            1|             0|                 0|             0.0|              12|            0.48|              0|            0.0|              0|             0|                 0|                         1|                 0.04|      1|       514|              399|       1|         nerds candy|                100.0|             100.0|         1|     0|           1|              0|               0|             1|        0|         1|                    0|           1|              1|              0|               0|   0|  0|     0|               1|       24|      2|    22|         36|           0|             15|    1|\n",
      "|739255.txt|https://www.hyder...|       29|www.hyderabadonli...|          22|         0| in|             100.0|                 1.0|        0.0050842|0.056980442|        2|            1|             0|                 0|             0.0|              16|           0.552|              0|            0.0|              0|             0|                 0|                         1|                0.034|      1|      2371|            12913|       1|hyderabadonline -...|                100.0|             100.0|         0|     1|           1|              0|               0|             1|        0|         0|                    0|           1|              1|              1|               1|   0|  0|     0|               1|       71|      4|     9|         40|           1|            317|    1|\n",
      "| 14486.txt| https://www.aap.org|       18|         www.aap.org|          11|         0|org|             100.0|                 1.0|        0.0799628|0.070497453|        3|            1|             0|                 0|             0.0|               5|           0.278|              0|            0.0|              0|             0|                 0|                         1|                0.056|      1|      2730|              481|       1|                home|                  0.0|               0.0|         1|     1|           1|              0|               0|             1|        0|         2|                    0|           1|              0|              0|               0|   0|  0|     0|               1|       10|      1|    12|        173|           6|             65|    1|\n",
      "+----------+--------------------+---------+--------------------+------------+----------+---+------------------+--------------------+-----------------+-----------+---------+-------------+--------------+------------------+----------------+----------------+----------------+---------------+---------------+---------------+--------------+------------------+--------------------------+---------------------+-------+----------+-----------------+--------+--------------------+---------------------+------------------+----------+------+------------+---------------+----------------+--------------+---------+----------+---------------------+------------+---------------+---------------+----------------+----+---+------+----------------+---------+-------+------+-----------+------------+---------------+-----+\n",
      "only showing top 10 rows\n",
      "\n"
     ]
    }
   ],
   "source": [
    "# show rdd header and first 10 rows\n",
    "phishing_rdd.show(10)"
   ]
  },
  {
   "cell_type": "code",
   "execution_count": 32,
   "metadata": {},
   "outputs": [],
   "source": [
    "# drop filename column since it's not relevant\n",
    "phishing_rdd = phishing_rdd.drop(\"filename\")\n"
   ]
  },
  {
   "cell_type": "code",
   "execution_count": 33,
   "metadata": {},
   "outputs": [
    {
     "name": "stdout",
     "output_type": "stream",
     "text": [
      "Rows:  235795\n",
      "Columns:  55\n",
      "root\n",
      " |-- URL: string (nullable = true)\n",
      " |-- URLLength: integer (nullable = true)\n",
      " |-- Domain: string (nullable = true)\n",
      " |-- DomainLength: integer (nullable = true)\n",
      " |-- IsDomainIP: integer (nullable = true)\n",
      " |-- TLD: string (nullable = true)\n",
      " |-- URLSimilarityIndex: double (nullable = true)\n",
      " |-- CharContinuationRate: double (nullable = true)\n",
      " |-- TLDLegitimateProb: double (nullable = true)\n",
      " |-- URLCharProb: double (nullable = true)\n",
      " |-- TLDLength: integer (nullable = true)\n",
      " |-- NoOfSubDomain: integer (nullable = true)\n",
      " |-- HasObfuscation: integer (nullable = true)\n",
      " |-- NoOfObfuscatedChar: integer (nullable = true)\n",
      " |-- ObfuscationRatio: double (nullable = true)\n",
      " |-- NoOfLettersInURL: integer (nullable = true)\n",
      " |-- LetterRatioInURL: double (nullable = true)\n",
      " |-- NoOfDegitsInURL: integer (nullable = true)\n",
      " |-- DegitRatioInURL: double (nullable = true)\n",
      " |-- NoOfEqualsInURL: integer (nullable = true)\n",
      " |-- NoOfQMarkInURL: integer (nullable = true)\n",
      " |-- NoOfAmpersandInURL: integer (nullable = true)\n",
      " |-- NoOfOtherSpecialCharsInURL: integer (nullable = true)\n",
      " |-- SpacialCharRatioInURL: double (nullable = true)\n",
      " |-- IsHTTPS: integer (nullable = true)\n",
      " |-- LineOfCode: integer (nullable = true)\n",
      " |-- LargestLineLength: integer (nullable = true)\n",
      " |-- HasTitle: integer (nullable = true)\n",
      " |-- Title: string (nullable = true)\n",
      " |-- DomainTitleMatchScore: double (nullable = true)\n",
      " |-- URLTitleMatchScore: double (nullable = true)\n",
      " |-- HasFavicon: integer (nullable = true)\n",
      " |-- Robots: integer (nullable = true)\n",
      " |-- IsResponsive: integer (nullable = true)\n",
      " |-- NoOfURLRedirect: integer (nullable = true)\n",
      " |-- NoOfSelfRedirect: integer (nullable = true)\n",
      " |-- HasDescription: integer (nullable = true)\n",
      " |-- NoOfPopup: integer (nullable = true)\n",
      " |-- NoOfiFrame: integer (nullable = true)\n",
      " |-- HasExternalFormSubmit: integer (nullable = true)\n",
      " |-- HasSocialNet: integer (nullable = true)\n",
      " |-- HasSubmitButton: integer (nullable = true)\n",
      " |-- HasHiddenFields: integer (nullable = true)\n",
      " |-- HasPasswordField: integer (nullable = true)\n",
      " |-- Bank: integer (nullable = true)\n",
      " |-- Pay: integer (nullable = true)\n",
      " |-- Crypto: integer (nullable = true)\n",
      " |-- HasCopyrightInfo: integer (nullable = true)\n",
      " |-- NoOfImage: integer (nullable = true)\n",
      " |-- NoOfCSS: integer (nullable = true)\n",
      " |-- NoOfJS: integer (nullable = true)\n",
      " |-- NoOfSelfRef: integer (nullable = true)\n",
      " |-- NoOfEmptyRef: integer (nullable = true)\n",
      " |-- NoOfExternalRef: integer (nullable = true)\n",
      " |-- label: integer (nullable = true)\n",
      "\n",
      "Schema:  None\n"
     ]
    }
   ],
   "source": [
    "# show rows, columns, and schema\n",
    "print(\"Rows: \", phishing_rdd.count())\n",
    "print(\"Columns: \", len(phishing_rdd.columns))\n",
    "print(\"Schema: \", phishing_rdd.printSchema())"
   ]
  },
  {
   "cell_type": "code",
   "execution_count": 34,
   "metadata": {},
   "outputs": [
    {
     "name": "stdout",
     "output_type": "stream",
     "text": [
      "Missing values: \n",
      "URL : 0\n",
      "URLLength : 0\n",
      "Domain : 0\n",
      "DomainLength : 0\n",
      "IsDomainIP : 0\n",
      "TLD : 0\n",
      "URLSimilarityIndex : 0\n",
      "CharContinuationRate : 0\n",
      "TLDLegitimateProb : 0\n",
      "URLCharProb : 0\n",
      "TLDLength : 0\n",
      "NoOfSubDomain : 0\n",
      "HasObfuscation : 0\n",
      "NoOfObfuscatedChar : 0\n",
      "ObfuscationRatio : 0\n",
      "NoOfLettersInURL : 0\n",
      "LetterRatioInURL : 0\n",
      "NoOfDegitsInURL : 0\n",
      "DegitRatioInURL : 0\n",
      "NoOfEqualsInURL : 0\n",
      "NoOfQMarkInURL : 0\n",
      "NoOfAmpersandInURL : 0\n",
      "NoOfOtherSpecialCharsInURL : 0\n",
      "SpacialCharRatioInURL : 0\n",
      "IsHTTPS : 0\n",
      "LineOfCode : 0\n",
      "LargestLineLength : 0\n",
      "HasTitle : 0\n",
      "Title : 0\n",
      "DomainTitleMatchScore : 0\n",
      "URLTitleMatchScore : 0\n",
      "HasFavicon : 0\n",
      "Robots : 0\n",
      "IsResponsive : 0\n",
      "NoOfURLRedirect : 0\n",
      "NoOfSelfRedirect : 0\n",
      "HasDescription : 0\n",
      "NoOfPopup : 0\n",
      "NoOfiFrame : 0\n",
      "HasExternalFormSubmit : 0\n",
      "HasSocialNet : 0\n",
      "HasSubmitButton : 0\n",
      "HasHiddenFields : 0\n",
      "HasPasswordField : 0\n",
      "Bank : 0\n",
      "Pay : 0\n",
      "Crypto : 0\n",
      "HasCopyrightInfo : 0\n",
      "NoOfImage : 0\n",
      "NoOfCSS : 0\n",
      "NoOfJS : 0\n",
      "NoOfSelfRef : 0\n",
      "NoOfEmptyRef : 0\n",
      "NoOfExternalRef : 0\n",
      "label : 0\n"
     ]
    }
   ],
   "source": [
    "# check the number of missing values in each column\n",
    "print(\"Missing values: \")\n",
    "for col in phishing_rdd.columns:\n",
    "    print(col, \":\", phishing_rdd.where(phishing_rdd[col].isNull()).count())\n",
    "    "
   ]
  },
  {
   "cell_type": "code",
   "execution_count": 43,
   "metadata": {},
   "outputs": [
    {
     "name": "stdout",
     "output_type": "stream",
     "text": [
      "Unique URLs:  235370\n"
     ]
    }
   ],
   "source": [
    "# keep thee unique values of the url column\n",
    "unique_urls = phishing_rdd.select(\"url\").distinct()\n",
    "print(\"Unique URLs: \", unique_urls.count())\n",
    "filtered_rdd = phishing_rdd.dropDuplicates([\"url\"])"
   ]
  },
  {
   "cell_type": "code",
   "execution_count": 44,
   "metadata": {},
   "outputs": [
    {
     "name": "stdout",
     "output_type": "stream",
     "text": [
      "+-------+--------------------+------------------+--------------------+------------------+--------------------+------------------+------------------+--------------------+-------------------+--------------------+------------------+------------------+--------------------+--------------------+--------------------+------------------+-------------------+------------------+-------------------+-------------------+-------------------+--------------------+--------------------------+---------------------+------------------+-----------------+------------------+------------------+--------------------+---------------------+------------------+-------------------+------------------+-------------------+-------------------+-------------------+-------------------+-------------------+------------------+---------------------+------------------+-------------------+------------------+-------------------+-------------------+-------------------+-------------------+-------------------+------------------+-----------------+------------------+------------------+------------------+------------------+------------------+\n",
      "|summary|                 URL|         URLLength|              Domain|      DomainLength|          IsDomainIP|               TLD|URLSimilarityIndex|CharContinuationRate|  TLDLegitimateProb|         URLCharProb|         TLDLength|     NoOfSubDomain|      HasObfuscation|  NoOfObfuscatedChar|    ObfuscationRatio|  NoOfLettersInURL|   LetterRatioInURL|   NoOfDegitsInURL|    DegitRatioInURL|    NoOfEqualsInURL|     NoOfQMarkInURL|  NoOfAmpersandInURL|NoOfOtherSpecialCharsInURL|SpacialCharRatioInURL|           IsHTTPS|       LineOfCode| LargestLineLength|          HasTitle|               Title|DomainTitleMatchScore|URLTitleMatchScore|         HasFavicon|            Robots|       IsResponsive|    NoOfURLRedirect|   NoOfSelfRedirect|     HasDescription|          NoOfPopup|        NoOfiFrame|HasExternalFormSubmit|      HasSocialNet|    HasSubmitButton|   HasHiddenFields|   HasPasswordField|               Bank|                Pay|             Crypto|   HasCopyrightInfo|         NoOfImage|          NoOfCSS|            NoOfJS|       NoOfSelfRef|      NoOfEmptyRef|   NoOfExternalRef|             label|\n",
      "+-------+--------------------+------------------+--------------------+------------------+--------------------+------------------+------------------+--------------------+-------------------+--------------------+------------------+------------------+--------------------+--------------------+--------------------+------------------+-------------------+------------------+-------------------+-------------------+-------------------+--------------------+--------------------------+---------------------+------------------+-----------------+------------------+------------------+--------------------+---------------------+------------------+-------------------+------------------+-------------------+-------------------+-------------------+-------------------+-------------------+------------------+---------------------+------------------+-------------------+------------------+-------------------+-------------------+-------------------+-------------------+-------------------+------------------+-----------------+------------------+------------------+------------------+------------------+------------------+\n",
      "|  count|              235370|            235370|              235370|            235370|              235370|            235370|            235370|              235370|             235370|              235370|            235370|            235370|              235370|              235370|              235370|            235370|             235370|            235370|             235370|             235370|             235370|              235370|                    235370|               235370|            235370|           235370|            235370|            235370|              235370|               235370|            235370|             235370|            235370|             235370|             235370|             235370|             235370|             235370|            235370|               235370|            235370|             235370|            235370|             235370|             235370|             235370|             235370|             235370|            235370|           235370|            235370|            235370|            235370|            235370|            235370|\n",
      "|   mean|                NULL| 34.54551557122828|                NULL|21.456022432765433|0.002702128563538259|121.96817420435511| 78.49753731864364|  0.8459003857771183| 0.2605033189922483| 0.05576000156530566| 2.764269023240005|1.1649573012703403|0.002052088201554...|0.024879976207673026|1.383056464290266...|19.405599694098655| 0.5157493435866648|1.8757318264859584|0.02851594935633264|0.06232739941368909|0.02942176148192208|0.025079661809066577|         2.335977397289374|  0.06324924586820535|0.7827165739049157|1143.790602030845|12644.281374006883|0.8614436844117772|3.343261807810139E26|    50.21481331386405| 52.19717693348627| 0.3621914432595488|0.2668606874283044| 0.6248884734673068|0.13338998173089178|0.04013680588010367|0.44085482431915707|0.22208012915834643|1.5913412924331902| 0.044058291201087646|0.4573947401962867| 0.4146790160173344|0.3782087776692017|0.10210732038917449| 0.1272039767175086| 0.2372477376046225|0.02349067425755194| 0.4875090283383609|26.120231975188002| 6.34325105153588| 10.53869652037218| 65.18777669201683| 2.381161575391936| 49.34893571823087|0.5729277308068148|\n",
      "| stddev|                NULL|41.332730180974465|                NULL| 9.127733251603411| 0.05191183404711905| 70.89798412652155|28.947898575186993|  0.2163840208017682|0.25161812318608917|0.010583091168477606|0.5996666097503839|0.6006954115915476| 0.04525357263550432|  1.8779221095198186|0.003818260183279...|29.099537472574173|0.12323368545614269|11.892528636975111|0.07080066863278517| 0.9355319362260593| 0.1935933967896147|  0.8371845694289295|         3.527556284706587|  0.03236324103404625|0.4123979406019117|3422.742265515439|148924.70740403023|0.3454836756069948|6.064311987828564E28|   49.676252759907314| 49.59691954180213|0.48063477107276203|0.4423198979978366|0.48415272909512364|0.33999644944627444|0.19628042789994615| 0.4964905794607121| 3.8739714215000167| 5.767382538717237|  0.20522508891093716|0.4981825431373978|0.49266759678858596|0.4849411276686175|0.30279003456878756|0.33320203589252523|0.42539630633884645|0.15145613206346806|0.49984501310508456| 79.47643779076918|74.93346063163189|22.328711144891336|176.82560481958384|17.656515617535035|161.15986320186394| 0.494654005993177|\n",
      "|    min|http://0-lxshop7....|                13|0-lxshop7.4565433...|                 4|                   0|               100|       0.155574352|                 0.0|                0.0|         0.001082764|                 2|                 0|                   0|                   0|                 0.0|                 0|                0.0|                 0|                0.0|                  0|                  0|                   0|                         0|                  0.0|                 0|                2|                22|                 0|              #NAME?|                  0.0|               0.0|                  0|                 0|                  0|                  0|                  0|                  0|                  0|                 0|                    0|                 0|                  0|                 0|                  0|                  0|                  0|                  0|                  0|                 0|                0|                 0|                 0|                 0|                 0|                 0|\n",
      "|    max|https://zzqqw1.go...|              6097|zzzzzzzzzzzzzzz.h...|               110|                   1|                zw|             100.0|                 1.0|          0.5229071|         0.090823664|                13|                10|                   1|                 447|               0.348|              5191|              0.926|              2011|              0.684|                176|                  4|                 149|                       499|                0.397|                 1|           442666|          13975732|                 1|ì„œìš¸ìžì „ê±° ë...|                100.0|             100.0|                  1|                 1|                  1|                  1|                  1|                  1|                602|              1602|                    1|                 1|                  1|                 1|                  1|                  1|                  1|                  1|                  1|              8956|            35820|              6957|             27397|              4887|             27516|                 1|\n",
      "+-------+--------------------+------------------+--------------------+------------------+--------------------+------------------+------------------+--------------------+-------------------+--------------------+------------------+------------------+--------------------+--------------------+--------------------+------------------+-------------------+------------------+-------------------+-------------------+-------------------+--------------------+--------------------------+---------------------+------------------+-----------------+------------------+------------------+--------------------+---------------------+------------------+-------------------+------------------+-------------------+-------------------+-------------------+-------------------+-------------------+------------------+---------------------+------------------+-------------------+------------------+-------------------+-------------------+-------------------+-------------------+-------------------+------------------+-----------------+------------------+------------------+------------------+------------------+------------------+\n",
      "\n"
     ]
    }
   ],
   "source": [
    "# generate descriptive statistics\n",
    "filtered_rdd.describe().show()\n"
   ]
  },
  {
   "cell_type": "code",
   "execution_count": 45,
   "metadata": {},
   "outputs": [],
   "source": [
    "# split the dataset into the rows that are real and phishing based on the label column\n",
    "# where 1 is phishing and 0 is real\n",
    "all_legitimate_rdd = filtered_rdd.where(filtered_rdd[\"label\"] == 0)\n",
    "all_phishing_rdd = filtered_rdd.where(filtered_rdd[\"label\"] == 1)"
   ]
  },
  {
   "cell_type": "code",
   "execution_count": 46,
   "metadata": {},
   "outputs": [
    {
     "name": "stdout",
     "output_type": "stream",
     "text": [
      "Legitimate URLs:  100520\n",
      "Phishing URLs:  134850\n"
     ]
    }
   ],
   "source": [
    "# show the number of the legitimate and phishing URLs\n",
    "print(\"Legitimate URLs: \", all_legitimate_rdd.count())\n",
    "print(\"Phishing URLs: \", all_phishing_rdd.count())\n"
   ]
  },
  {
   "cell_type": "code",
   "execution_count": 15,
   "metadata": {},
   "outputs": [
    {
     "ename": "KeyboardInterrupt",
     "evalue": "",
     "output_type": "error",
     "traceback": [
      "\u001b[1;31m---------------------------------------------------------------------------\u001b[0m",
      "\u001b[1;31mKeyboardInterrupt\u001b[0m                         Traceback (most recent call last)",
      "Cell \u001b[1;32mIn [15], line 5\u001b[0m\n\u001b[0;32m      1\u001b[0m \u001b[38;5;66;03m# show histograms for integer columns in the dataset to understand the distribution of the data\u001b[39;00m\n\u001b[0;32m      2\u001b[0m \n\u001b[0;32m      3\u001b[0m \n\u001b[0;32m      4\u001b[0m \u001b[38;5;66;03m# convert the rdd to a pandas dataframe\u001b[39;00m\n\u001b[1;32m----> 5\u001b[0m phishing_df \u001b[38;5;241m=\u001b[39m \u001b[43mphishing_rdd\u001b[49m\u001b[38;5;241;43m.\u001b[39;49m\u001b[43mtoPandas\u001b[49m\u001b[43m(\u001b[49m\u001b[43m)\u001b[49m\n\u001b[0;32m      7\u001b[0m \u001b[38;5;66;03m# plot histograms for integer columns\u001b[39;00m\n\u001b[0;32m      8\u001b[0m \u001b[38;5;28;01mfor\u001b[39;00m col \u001b[38;5;129;01min\u001b[39;00m phishing_df\u001b[38;5;241m.\u001b[39mselect_dtypes(include\u001b[38;5;241m=\u001b[39m[\u001b[38;5;124m\"\u001b[39m\u001b[38;5;124mint\u001b[39m\u001b[38;5;124m\"\u001b[39m])\u001b[38;5;241m.\u001b[39mcolumns:\n",
      "File \u001b[1;32mc:\\Users\\77\\anaconda3\\lib\\site-packages\\pyspark\\sql\\pandas\\conversion.py:204\u001b[0m, in \u001b[0;36mPandasConversionMixin.toPandas\u001b[1;34m(self)\u001b[0m\n\u001b[0;32m    202\u001b[0m rows \u001b[38;5;241m=\u001b[39m \u001b[38;5;28mself\u001b[39m\u001b[38;5;241m.\u001b[39mcollect()\n\u001b[0;32m    203\u001b[0m \u001b[38;5;28;01mif\u001b[39;00m \u001b[38;5;28mlen\u001b[39m(rows) \u001b[38;5;241m>\u001b[39m \u001b[38;5;241m0\u001b[39m:\n\u001b[1;32m--> 204\u001b[0m     pdf \u001b[38;5;241m=\u001b[39m \u001b[43mpd\u001b[49m\u001b[38;5;241;43m.\u001b[39;49m\u001b[43mDataFrame\u001b[49m\u001b[38;5;241;43m.\u001b[39;49m\u001b[43mfrom_records\u001b[49m\u001b[43m(\u001b[49m\n\u001b[0;32m    205\u001b[0m \u001b[43m        \u001b[49m\u001b[43mrows\u001b[49m\u001b[43m,\u001b[49m\u001b[43m \u001b[49m\u001b[43mindex\u001b[49m\u001b[38;5;241;43m=\u001b[39;49m\u001b[38;5;28;43mrange\u001b[39;49m\u001b[43m(\u001b[49m\u001b[38;5;28;43mlen\u001b[39;49m\u001b[43m(\u001b[49m\u001b[43mrows\u001b[49m\u001b[43m)\u001b[49m\u001b[43m)\u001b[49m\u001b[43m,\u001b[49m\u001b[43m \u001b[49m\u001b[43mcolumns\u001b[49m\u001b[38;5;241;43m=\u001b[39;49m\u001b[38;5;28;43mself\u001b[39;49m\u001b[38;5;241;43m.\u001b[39;49m\u001b[43mcolumns\u001b[49m\u001b[43m  \u001b[49m\u001b[38;5;66;43;03m# type: ignore[arg-type]\u001b[39;49;00m\n\u001b[0;32m    206\u001b[0m \u001b[43m    \u001b[49m\u001b[43m)\u001b[49m\n\u001b[0;32m    207\u001b[0m \u001b[38;5;28;01melse\u001b[39;00m:\n\u001b[0;32m    208\u001b[0m     pdf \u001b[38;5;241m=\u001b[39m pd\u001b[38;5;241m.\u001b[39mDataFrame(columns\u001b[38;5;241m=\u001b[39m\u001b[38;5;28mself\u001b[39m\u001b[38;5;241m.\u001b[39mcolumns)\n",
      "File \u001b[1;32mc:\\Users\\77\\anaconda3\\lib\\site-packages\\pandas\\core\\frame.py:2222\u001b[0m, in \u001b[0;36mDataFrame.from_records\u001b[1;34m(cls, data, index, exclude, columns, coerce_float, nrows)\u001b[0m\n\u001b[0;32m   2220\u001b[0m     arr_columns \u001b[38;5;241m=\u001b[39m columns\n\u001b[0;32m   2221\u001b[0m \u001b[38;5;28;01melse\u001b[39;00m:\n\u001b[1;32m-> 2222\u001b[0m     arrays, arr_columns \u001b[38;5;241m=\u001b[39m \u001b[43mto_arrays\u001b[49m\u001b[43m(\u001b[49m\u001b[43mdata\u001b[49m\u001b[43m,\u001b[49m\u001b[43m \u001b[49m\u001b[43mcolumns\u001b[49m\u001b[43m)\u001b[49m\n\u001b[0;32m   2223\u001b[0m     \u001b[38;5;28;01mif\u001b[39;00m coerce_float:\n\u001b[0;32m   2224\u001b[0m         \u001b[38;5;28;01mfor\u001b[39;00m i, arr \u001b[38;5;129;01min\u001b[39;00m \u001b[38;5;28menumerate\u001b[39m(arrays):\n",
      "File \u001b[1;32mc:\\Users\\77\\anaconda3\\lib\\site-packages\\pandas\\core\\internals\\construction.py:873\u001b[0m, in \u001b[0;36mto_arrays\u001b[1;34m(data, columns, dtype)\u001b[0m\n\u001b[0;32m    870\u001b[0m     \u001b[38;5;28;01mreturn\u001b[39;00m arrays, columns\n\u001b[0;32m    872\u001b[0m \u001b[38;5;28;01mif\u001b[39;00m \u001b[38;5;28misinstance\u001b[39m(data[\u001b[38;5;241m0\u001b[39m], (\u001b[38;5;28mlist\u001b[39m, \u001b[38;5;28mtuple\u001b[39m)):\n\u001b[1;32m--> 873\u001b[0m     arr \u001b[38;5;241m=\u001b[39m \u001b[43m_list_to_arrays\u001b[49m\u001b[43m(\u001b[49m\u001b[43mdata\u001b[49m\u001b[43m)\u001b[49m\n\u001b[0;32m    874\u001b[0m \u001b[38;5;28;01melif\u001b[39;00m \u001b[38;5;28misinstance\u001b[39m(data[\u001b[38;5;241m0\u001b[39m], abc\u001b[38;5;241m.\u001b[39mMapping):\n\u001b[0;32m    875\u001b[0m     arr, columns \u001b[38;5;241m=\u001b[39m _list_of_dict_to_arrays(data, columns)\n",
      "\u001b[1;31mKeyboardInterrupt\u001b[0m: "
     ]
    }
   ],
   "source": [
    "# # show histograms for integer columns in the dataset to understand the distribution of the data\n",
    "\n",
    "\n",
    "# # convert the rdd to a pandas dataframe\n",
    "# phishing_df = phishing_rdd.toPandas()\n",
    "\n",
    "# # plot histograms for integer columns\n",
    "# for col in phishing_df.select_dtypes(include=[\"int\"]).columns:\n",
    "#     sns.histplot(phishing_df[col])\n",
    "#     plt.title(col)\n",
    "#     plt.show()\n",
    "    "
   ]
  },
  {
   "cell_type": "markdown",
   "metadata": {},
   "source": [
    "## 3- Model & Training"
   ]
  },
  {
   "cell_type": "code",
   "execution_count": null,
   "metadata": {},
   "outputs": [],
   "source": []
  },
  {
   "cell_type": "markdown",
   "metadata": {},
   "source": [
    "## 4- Evaluation"
   ]
  },
  {
   "cell_type": "code",
   "execution_count": null,
   "metadata": {},
   "outputs": [],
   "source": []
  }
 ],
 "metadata": {
  "kernelspec": {
   "display_name": "base",
   "language": "python",
   "name": "python3"
  },
  "language_info": {
   "codemirror_mode": {
    "name": "ipython",
    "version": 3
   },
   "file_extension": ".py",
   "mimetype": "text/x-python",
   "name": "python",
   "nbconvert_exporter": "python",
   "pygments_lexer": "ipython3",
   "version": "3.9.18"
  }
 },
 "nbformat": 4,
 "nbformat_minor": 2
}
