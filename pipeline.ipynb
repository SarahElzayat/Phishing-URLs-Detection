{
 "cells": [
  {
   "cell_type": "markdown",
   "metadata": {},
   "source": [
    "# IMPORTS"
   ]
  },
  {
   "cell_type": "code",
   "execution_count": 30,
   "metadata": {},
   "outputs": [],
   "source": [
    "from utils import *\n",
    "from sklearn.model_selection import train_test_split\n",
    "from tabulate import tabulate\n",
    "import matplotlib.pyplot as plt\n",
    "\n",
    "from pyspark.ml.feature import OneHotEncoder\n",
    "from pyspark.ml import Pipeline\n",
    "from pyspark.ml.feature import StringIndexer\n",
    "\n"
   ]
  },
  {
   "cell_type": "markdown",
   "metadata": {},
   "source": [
    "## 1- Read Dataset"
   ]
  },
  {
   "cell_type": "code",
   "execution_count": 14,
   "metadata": {},
   "outputs": [],
   "source": [
    "from pyspark import SparkContext, SparkConf\n",
    "from pyspark.sql import SparkSession\n",
    "import matplotlib.pyplot as plt\n",
    "import seaborn as sns\n"
   ]
  },
  {
   "cell_type": "markdown",
   "metadata": {},
   "source": [
    "## Uncomment to read the dataset online"
   ]
  },
  {
   "cell_type": "code",
   "execution_count": 15,
   "metadata": {},
   "outputs": [],
   "source": [
    "\n",
    "#!pip install ucimlrepo\n",
    "# from ucimlrepo import fetch_ucirepo \n",
    "  \n",
    "# # fetch dataset \n",
    "# phiusiil_phishing_url_website = fetch_ucirepo(id=967) \n",
    "  \n",
    "# # data (as pandas dataframes) \n",
    "# X = phiusiil_phishing_url_website.data.features \n",
    "# y = phiusiil_phishing_url_website.data.targets \n",
    "  \n",
    "# # metadata \n",
    "# print(phiusiil_phishing_url_website.metadata) \n",
    "  \n",
    "# # variable information \n",
    "# print(phiusiil_phishing_url_website.variables) \n"
   ]
  },
  {
   "cell_type": "markdown",
   "metadata": {},
   "source": [
    "## 2- Preprocessing & Visualization"
   ]
  },
  {
   "cell_type": "code",
   "execution_count": 16,
   "metadata": {},
   "outputs": [],
   "source": [
    "# load the dataset\n",
    "DATASET_PATH = \"./dataset/PhiUSIIL_Phishing_URL_Dataset.csv\"\n"
   ]
  },
  {
   "cell_type": "code",
   "execution_count": 17,
   "metadata": {},
   "outputs": [],
   "source": [
    "# find spark\n",
    "spark = SparkSession.builder.appName(\"PhishingURL\").getOrCreate()\n",
    "sc = spark.sparkContext\n"
   ]
  },
  {
   "cell_type": "code",
   "execution_count": 18,
   "metadata": {},
   "outputs": [],
   "source": [
    "# read dataset\n",
    "phishing_rdd = spark.read.csv(DATASET_PATH, header=True, inferSchema=True)"
   ]
  },
  {
   "cell_type": "code",
   "execution_count": 19,
   "metadata": {},
   "outputs": [
    {
     "name": "stdout",
     "output_type": "stream",
     "text": [
      "+----------+--------------------+---------+--------------------+------------+----------+---+------------------+--------------------+-----------------+-----------+---------+-------------+--------------+------------------+----------------+----------------+----------------+---------------+---------------+---------------+--------------+------------------+--------------------------+---------------------+-------+----------+-----------------+--------+--------------------+---------------------+------------------+----------+------+------------+---------------+----------------+--------------+---------+----------+---------------------+------------+---------------+---------------+----------------+----+---+------+----------------+---------+-------+------+-----------+------------+---------------+-----+\n",
      "|  FILENAME|                 URL|URLLength|              Domain|DomainLength|IsDomainIP|TLD|URLSimilarityIndex|CharContinuationRate|TLDLegitimateProb|URLCharProb|TLDLength|NoOfSubDomain|HasObfuscation|NoOfObfuscatedChar|ObfuscationRatio|NoOfLettersInURL|LetterRatioInURL|NoOfDegitsInURL|DegitRatioInURL|NoOfEqualsInURL|NoOfQMarkInURL|NoOfAmpersandInURL|NoOfOtherSpecialCharsInURL|SpacialCharRatioInURL|IsHTTPS|LineOfCode|LargestLineLength|HasTitle|               Title|DomainTitleMatchScore|URLTitleMatchScore|HasFavicon|Robots|IsResponsive|NoOfURLRedirect|NoOfSelfRedirect|HasDescription|NoOfPopup|NoOfiFrame|HasExternalFormSubmit|HasSocialNet|HasSubmitButton|HasHiddenFields|HasPasswordField|Bank|Pay|Crypto|HasCopyrightInfo|NoOfImage|NoOfCSS|NoOfJS|NoOfSelfRef|NoOfEmptyRef|NoOfExternalRef|label|\n",
      "+----------+--------------------+---------+--------------------+------------+----------+---+------------------+--------------------+-----------------+-----------+---------+-------------+--------------+------------------+----------------+----------------+----------------+---------------+---------------+---------------+--------------+------------------+--------------------------+---------------------+-------+----------+-----------------+--------+--------------------+---------------------+------------------+----------+------+------------+---------------+----------------+--------------+---------+----------+---------------------+------------+---------------+---------------+----------------+----+---+------+----------------+---------+-------+------+-----------+------------+---------------+-----+\n",
      "|521848.txt|https://www.south...|       31|www.southbankmosa...|          24|         0|com|             100.0|                 1.0|        0.5229071|0.061933179|        3|            1|             0|                 0|             0.0|              18|           0.581|              0|            0.0|              0|             0|                 0|                         1|                0.032|      1|       558|             9381|       1|à¸‚à¹ˆà¸²à¸§à¸ªà¸...|                  0.0|               0.0|         0|     1|           1|              0|               0|             0|        0|         1|                    0|           0|              1|              1|               0|   1|  0|     0|               1|       34|     20|    28|        119|           0|            124|    1|\n",
      "| 31372.txt|https://www.uni-m...|       23|    www.uni-mainz.de|          16|         0| de|             100.0|         0.666666667|        0.0326503|0.050207214|        2|            1|             0|                 0|             0.0|               9|           0.391|              0|            0.0|              0|             0|                 0|                         2|                0.087|      1|       618|             9381|       1|johannes gutenber...|          55.55555556|       55.55555556|         1|     1|           0|              0|               0|             0|        0|         0|                    0|           1|              1|              0|               0|   0|  0|     0|               1|       50|      9|     8|         39|           0|            217|    1|\n",
      "|597387.txt|https://www.voice...|       29|www.voicefmradio....|          22|         0| uk|             100.0|         0.866666667|         0.028555| 0.06412872|        2|            2|             0|                 0|             0.0|              15|           0.517|              0|            0.0|              0|             0|                 0|                         2|                0.069|      1|       467|              682|       1|voice fm southampton|          46.66666667|       46.66666667|         0|     1|           1|              0|               0|             1|        0|         0|                    0|           0|              1|              1|               0|   0|  0|     0|               1|       10|      2|     7|         42|           2|              5|    1|\n",
      "|554095.txt|https://www.sfnmj...|       26| www.sfnmjournal.com|          19|         0|com|             100.0|                 1.0|        0.5229071|0.057605756|        3|            1|             0|                 0|             0.0|              13|             0.5|              0|            0.0|              0|             0|                 0|                         1|                0.038|      1|      6356|            26824|       1|home page: semina...|                  0.0|               0.0|         0|     1|           1|              0|               0|             0|        1|        12|                    0|           1|              1|              1|               0|   0|  1|     1|               1|        3|     27|    15|         22|           1|             31|    1|\n",
      "|151578.txt|https://www.rewil...|       33|www.rewildingarge...|          26|         0|org|             100.0|                 1.0|        0.0799628|0.059441389|        3|            1|             0|                 0|             0.0|              20|           0.606|              0|            0.0|              0|             0|                 0|                         1|                 0.03|      1|      6089|            28404|       1|fundaciÃ³n rewild...|                100.0|             100.0|         0|     1|           1|              1|               1|             1|        0|         2|                    0|           1|              1|              1|               0|   1|  1|     0|               1|      244|     15|    34|         72|           1|             85|    1|\n",
      "| 23107.txt|https://www.globa...|       30|www.globalreporti...|          23|         0|org|             100.0|                 1.0|        0.0799628|0.060614474|        3|            1|             0|                 0|             0.0|              17|           0.567|              0|            0.0|              0|             0|                 0|                         1|                0.033|      1|      1210|              737|       1|          gri - home|                  0.0|               0.0|         0|     0|           1|              0|               0|             1|        1|         1|                    0|           1|              0|              1|               0|   0|  0|     0|               1|       35|      1|    11|         86|           0|             14|    1|\n",
      "| 23034.txt|https://www.saffr...|       25|  www.saffronart.com|          18|         0|com|             100.0|                 1.0|        0.5229071|0.063549404|        3|            1|             0|                 0|             0.0|              12|            0.48|              0|            0.0|              0|             0|                 0|                         1|                 0.04|      1|      1024|              984|       1|                   0|                  0.0|               0.0|         1|     0|           1|              1|               1|             0|        2|         4|                    0|           1|              0|              1|               0|   0|  0|     0|               1|       32|      4|    14|         44|           2|             17|    1|\n",
      "|696732.txt|https://www.nerds...|       25|  www.nerdscandy.com|          18|         0|com|             100.0|                 1.0|        0.5229071|  0.0604856|        3|            1|             0|                 0|             0.0|              12|            0.48|              0|            0.0|              0|             0|                 0|                         1|                 0.04|      1|       514|              399|       1|         nerds candy|                100.0|             100.0|         1|     0|           1|              0|               0|             1|        0|         1|                    0|           1|              1|              0|               0|   0|  0|     0|               1|       24|      2|    22|         36|           0|             15|    1|\n",
      "|739255.txt|https://www.hyder...|       29|www.hyderabadonli...|          22|         0| in|             100.0|                 1.0|        0.0050842|0.056980442|        2|            1|             0|                 0|             0.0|              16|           0.552|              0|            0.0|              0|             0|                 0|                         1|                0.034|      1|      2371|            12913|       1|hyderabadonline -...|                100.0|             100.0|         0|     1|           1|              0|               0|             1|        0|         0|                    0|           1|              1|              1|               1|   0|  0|     0|               1|       71|      4|     9|         40|           1|            317|    1|\n",
      "| 14486.txt| https://www.aap.org|       18|         www.aap.org|          11|         0|org|             100.0|                 1.0|        0.0799628|0.070497453|        3|            1|             0|                 0|             0.0|               5|           0.278|              0|            0.0|              0|             0|                 0|                         1|                0.056|      1|      2730|              481|       1|                home|                  0.0|               0.0|         1|     1|           1|              0|               0|             1|        0|         2|                    0|           1|              0|              0|               0|   0|  0|     0|               1|       10|      1|    12|        173|           6|             65|    1|\n",
      "+----------+--------------------+---------+--------------------+------------+----------+---+------------------+--------------------+-----------------+-----------+---------+-------------+--------------+------------------+----------------+----------------+----------------+---------------+---------------+---------------+--------------+------------------+--------------------------+---------------------+-------+----------+-----------------+--------+--------------------+---------------------+------------------+----------+------+------------+---------------+----------------+--------------+---------+----------+---------------------+------------+---------------+---------------+----------------+----+---+------+----------------+---------+-------+------+-----------+------------+---------------+-----+\n",
      "only showing top 10 rows\n",
      "\n"
     ]
    }
   ],
   "source": [
    "# show rdd header and first 10 rows\n",
    "phishing_rdd.show(10)"
   ]
  },
  {
   "cell_type": "code",
   "execution_count": 20,
   "metadata": {},
   "outputs": [],
   "source": [
    "# drop filename column since it's not relevant\n",
    "phishing_rdd = phishing_rdd.drop(\"filename\")\n"
   ]
  },
  {
   "cell_type": "code",
   "execution_count": 21,
   "metadata": {},
   "outputs": [
    {
     "name": "stdout",
     "output_type": "stream",
     "text": [
      "Rows:  235795\n",
      "Columns:  55\n",
      "root\n",
      " |-- URL: string (nullable = true)\n",
      " |-- URLLength: integer (nullable = true)\n",
      " |-- Domain: string (nullable = true)\n",
      " |-- DomainLength: integer (nullable = true)\n",
      " |-- IsDomainIP: integer (nullable = true)\n",
      " |-- TLD: string (nullable = true)\n",
      " |-- URLSimilarityIndex: double (nullable = true)\n",
      " |-- CharContinuationRate: double (nullable = true)\n",
      " |-- TLDLegitimateProb: double (nullable = true)\n",
      " |-- URLCharProb: double (nullable = true)\n",
      " |-- TLDLength: integer (nullable = true)\n",
      " |-- NoOfSubDomain: integer (nullable = true)\n",
      " |-- HasObfuscation: integer (nullable = true)\n",
      " |-- NoOfObfuscatedChar: integer (nullable = true)\n",
      " |-- ObfuscationRatio: double (nullable = true)\n",
      " |-- NoOfLettersInURL: integer (nullable = true)\n",
      " |-- LetterRatioInURL: double (nullable = true)\n",
      " |-- NoOfDegitsInURL: integer (nullable = true)\n",
      " |-- DegitRatioInURL: double (nullable = true)\n",
      " |-- NoOfEqualsInURL: integer (nullable = true)\n",
      " |-- NoOfQMarkInURL: integer (nullable = true)\n",
      " |-- NoOfAmpersandInURL: integer (nullable = true)\n",
      " |-- NoOfOtherSpecialCharsInURL: integer (nullable = true)\n",
      " |-- SpacialCharRatioInURL: double (nullable = true)\n",
      " |-- IsHTTPS: integer (nullable = true)\n",
      " |-- LineOfCode: integer (nullable = true)\n",
      " |-- LargestLineLength: integer (nullable = true)\n",
      " |-- HasTitle: integer (nullable = true)\n",
      " |-- Title: string (nullable = true)\n",
      " |-- DomainTitleMatchScore: double (nullable = true)\n",
      " |-- URLTitleMatchScore: double (nullable = true)\n",
      " |-- HasFavicon: integer (nullable = true)\n",
      " |-- Robots: integer (nullable = true)\n",
      " |-- IsResponsive: integer (nullable = true)\n",
      " |-- NoOfURLRedirect: integer (nullable = true)\n",
      " |-- NoOfSelfRedirect: integer (nullable = true)\n",
      " |-- HasDescription: integer (nullable = true)\n",
      " |-- NoOfPopup: integer (nullable = true)\n",
      " |-- NoOfiFrame: integer (nullable = true)\n",
      " |-- HasExternalFormSubmit: integer (nullable = true)\n",
      " |-- HasSocialNet: integer (nullable = true)\n",
      " |-- HasSubmitButton: integer (nullable = true)\n",
      " |-- HasHiddenFields: integer (nullable = true)\n",
      " |-- HasPasswordField: integer (nullable = true)\n",
      " |-- Bank: integer (nullable = true)\n",
      " |-- Pay: integer (nullable = true)\n",
      " |-- Crypto: integer (nullable = true)\n",
      " |-- HasCopyrightInfo: integer (nullable = true)\n",
      " |-- NoOfImage: integer (nullable = true)\n",
      " |-- NoOfCSS: integer (nullable = true)\n",
      " |-- NoOfJS: integer (nullable = true)\n",
      " |-- NoOfSelfRef: integer (nullable = true)\n",
      " |-- NoOfEmptyRef: integer (nullable = true)\n",
      " |-- NoOfExternalRef: integer (nullable = true)\n",
      " |-- label: integer (nullable = true)\n",
      "\n",
      "Schema:  None\n"
     ]
    }
   ],
   "source": [
    "# show rows, columns, and schema\n",
    "print(\"Rows: \", phishing_rdd.count())\n",
    "print(\"Columns: \", len(phishing_rdd.columns))\n",
    "print(\"Schema: \", phishing_rdd.printSchema())"
   ]
  },
  {
   "cell_type": "code",
   "execution_count": 22,
   "metadata": {},
   "outputs": [
    {
     "name": "stdout",
     "output_type": "stream",
     "text": [
      "Missing values: \n",
      "URL : 0\n",
      "URLLength : 0\n",
      "Domain : 0\n",
      "DomainLength : 0\n",
      "IsDomainIP : 0\n",
      "TLD : 0\n",
      "URLSimilarityIndex : 0\n",
      "CharContinuationRate : 0\n",
      "TLDLegitimateProb : 0\n",
      "URLCharProb : 0\n",
      "TLDLength : 0\n",
      "NoOfSubDomain : 0\n",
      "HasObfuscation : 0\n",
      "NoOfObfuscatedChar : 0\n",
      "ObfuscationRatio : 0\n",
      "NoOfLettersInURL : 0\n",
      "LetterRatioInURL : 0\n",
      "NoOfDegitsInURL : 0\n",
      "DegitRatioInURL : 0\n",
      "NoOfEqualsInURL : 0\n",
      "NoOfQMarkInURL : 0\n",
      "NoOfAmpersandInURL : 0\n",
      "NoOfOtherSpecialCharsInURL : 0\n",
      "SpacialCharRatioInURL : 0\n",
      "IsHTTPS : 0\n",
      "LineOfCode : 0\n",
      "LargestLineLength : 0\n",
      "HasTitle : 0\n",
      "Title : 0\n",
      "DomainTitleMatchScore : 0\n",
      "URLTitleMatchScore : 0\n",
      "HasFavicon : 0\n",
      "Robots : 0\n",
      "IsResponsive : 0\n",
      "NoOfURLRedirect : 0\n",
      "NoOfSelfRedirect : 0\n",
      "HasDescription : 0\n",
      "NoOfPopup : 0\n",
      "NoOfiFrame : 0\n",
      "HasExternalFormSubmit : 0\n",
      "HasSocialNet : 0\n",
      "HasSubmitButton : 0\n",
      "HasHiddenFields : 0\n",
      "HasPasswordField : 0\n",
      "Bank : 0\n",
      "Pay : 0\n",
      "Crypto : 0\n",
      "HasCopyrightInfo : 0\n",
      "NoOfImage : 0\n",
      "NoOfCSS : 0\n",
      "NoOfJS : 0\n",
      "NoOfSelfRef : 0\n",
      "NoOfEmptyRef : 0\n",
      "NoOfExternalRef : 0\n",
      "label : 0\n"
     ]
    }
   ],
   "source": [
    "# check the number of missing values in each column\n",
    "print(\"Missing values: \")\n",
    "for col in phishing_rdd.columns:\n",
    "    print(col, \":\", phishing_rdd.where(phishing_rdd[col].isNull()).count())\n",
    "    "
   ]
  },
  {
   "cell_type": "code",
   "execution_count": 23,
   "metadata": {},
   "outputs": [
    {
     "name": "stdout",
     "output_type": "stream",
     "text": [
      "Unique URLs:  235370\n"
     ]
    }
   ],
   "source": [
    "# keep thee unique values of the url column\n",
    "unique_urls = phishing_rdd.select(\"url\").distinct()\n",
    "print(\"Unique URLs: \", unique_urls.count())\n",
    "filtered_rdd = phishing_rdd.dropDuplicates([\"url\"])"
   ]
  },
  {
   "cell_type": "code",
   "execution_count": 24,
   "metadata": {},
   "outputs": [],
   "source": [
    "#drop NON-informative columns \n",
    "filtered_rdd=filtered_rdd.drop(\"Domain\")\n",
    "filtered_rdd=filtered_rdd.drop(\"DomainLength\")\n",
    "filtered_rdd=filtered_rdd.drop(\"IsDomainIP\")\n",
    "filtered_rdd=filtered_rdd.drop(\"HasObfuscation\")\n",
    "filtered_rdd=filtered_rdd.drop(\"NoOfObfuscatedChar\")\n",
    "filtered_rdd=filtered_rdd.drop(\"ObfuscationRatio\")\n",
    "filtered_rdd=filtered_rdd.drop(\"Title\")\n"
   ]
  },
  {
   "cell_type": "code",
   "execution_count": 33,
   "metadata": {},
   "outputs": [
    {
     "name": "stdout",
     "output_type": "stream",
     "text": [
      "235370\n"
     ]
    },
    {
     "data": {
      "text/plain": [
       "['URL',\n",
       " 'URLLength',\n",
       " 'TLD',\n",
       " 'URLSimilarityIndex',\n",
       " 'CharContinuationRate',\n",
       " 'TLDLegitimateProb',\n",
       " 'URLCharProb',\n",
       " 'TLDLength',\n",
       " 'NoOfSubDomain',\n",
       " 'NoOfLettersInURL',\n",
       " 'LetterRatioInURL',\n",
       " 'NoOfDegitsInURL',\n",
       " 'DegitRatioInURL',\n",
       " 'NoOfEqualsInURL',\n",
       " 'NoOfQMarkInURL',\n",
       " 'NoOfAmpersandInURL',\n",
       " 'NoOfOtherSpecialCharsInURL',\n",
       " 'SpacialCharRatioInURL',\n",
       " 'IsHTTPS',\n",
       " 'LineOfCode',\n",
       " 'LargestLineLength',\n",
       " 'HasTitle',\n",
       " 'DomainTitleMatchScore',\n",
       " 'URLTitleMatchScore',\n",
       " 'HasFavicon',\n",
       " 'Robots',\n",
       " 'IsResponsive',\n",
       " 'NoOfURLRedirect',\n",
       " 'NoOfSelfRedirect',\n",
       " 'HasDescription',\n",
       " 'NoOfPopup',\n",
       " 'NoOfiFrame',\n",
       " 'HasExternalFormSubmit',\n",
       " 'HasSocialNet',\n",
       " 'HasSubmitButton',\n",
       " 'HasHiddenFields',\n",
       " 'HasPasswordField',\n",
       " 'Bank',\n",
       " 'Pay',\n",
       " 'Crypto',\n",
       " 'HasCopyrightInfo',\n",
       " 'NoOfImage',\n",
       " 'NoOfCSS',\n",
       " 'NoOfJS',\n",
       " 'NoOfSelfRef',\n",
       " 'NoOfEmptyRef',\n",
       " 'NoOfExternalRef',\n",
       " 'label']"
      ]
     },
     "execution_count": 33,
     "metadata": {},
     "output_type": "execute_result"
    }
   ],
   "source": [
    "print(filtered_rdd.count())\n",
    "filtered_rdd.columns"
   ]
  },
  {
   "cell_type": "code",
   "execution_count": 32,
   "metadata": {},
   "outputs": [
    {
     "name": "stdout",
     "output_type": "stream",
     "text": [
      "235370\n",
      "+--------------------+---------+---+------------------+--------------------+-----------------+-----------+---------+-------------+----------------+----------------+---------------+---------------+---------------+--------------+------------------+--------------------------+---------------------+-------+----------+-----------------+--------+---------------------+------------------+----------+------+------------+---------------+----------------+--------------+---------+----------+---------------------+------------+---------------+---------------+----------------+----+---+------+----------------+---------+-------+------+-----------+------------+---------------+-----+---------+-----------------+\n",
      "|                 URL|URLLength|TLD|URLSimilarityIndex|CharContinuationRate|TLDLegitimateProb|URLCharProb|TLDLength|NoOfSubDomain|NoOfLettersInURL|LetterRatioInURL|NoOfDegitsInURL|DegitRatioInURL|NoOfEqualsInURL|NoOfQMarkInURL|NoOfAmpersandInURL|NoOfOtherSpecialCharsInURL|SpacialCharRatioInURL|IsHTTPS|LineOfCode|LargestLineLength|HasTitle|DomainTitleMatchScore|URLTitleMatchScore|HasFavicon|Robots|IsResponsive|NoOfURLRedirect|NoOfSelfRedirect|HasDescription|NoOfPopup|NoOfiFrame|HasExternalFormSubmit|HasSocialNet|HasSubmitButton|HasHiddenFields|HasPasswordField|Bank|Pay|Crypto|HasCopyrightInfo|NoOfImage|NoOfCSS|NoOfJS|NoOfSelfRef|NoOfEmptyRef|NoOfExternalRef|label|TLD_index|      TLD_Encoded|\n",
      "+--------------------+---------+---+------------------+--------------------+-----------------+-----------+---------+-------------+----------------+----------------+---------------+---------------+---------------+--------------+------------------+--------------------------+---------------------+-------+----------+-----------------+--------+---------------------+------------------+----------+------+------------+---------------+----------------+--------------+---------+----------+---------------------+------------+---------------+---------------+----------------+----+---+------+----------------+---------+-------+------+-----------+------------+---------------+-----+---------+-----------------+\n",
      "|http://006l5.mjt....|      225| lu|       4.163779397|         0.777777778|         2.773E-4|0.037558024|        2|            1|             179|           0.796|             30|          0.133|              0|             0|                 0|                         9|                 0.04|      0|         4|              234|       0|          11.11111111|       0.476190476|         0|     0|           0|              0|               0|             0|        0|         0|                    0|           0|              0|              0|               0|   0|  0|     0|               0|        0|      0|     0|          0|           0|              0|    0|    118.0|(694,[118],[1.0])|\n",
      "|http://011513b5b4...|       36|com|       28.46586911|         0.458333333|        0.5229071|0.035465076|        3|            1|              15|           0.417|              9|           0.25|              0|             0|                 0|                         5|                0.139|      0|         8|              101|       0|          4.166666667|       4.166666667|         0|     0|           0|              1|               0|             0|        0|         0|                    0|           0|              0|              0|               0|   0|  0|     0|               0|        0|      0|     0|          0|           0|              0|    0|      0.0|  (694,[0],[1.0])|\n",
      "| http://0283659.com/|       19|com|       63.08539945|                 1.0|        0.5229071|0.024473088|        3|            0|               3|           0.158|              7|          0.368|              0|             0|                 0|                         2|                0.105|      0|         4|               58|       0|          14.28571429|       14.28571429|         0|     0|           0|              0|               0|             0|        0|         0|                    0|           0|              0|              0|               0|   0|  0|     0|               0|        0|      0|     0|          1|           0|              1|    0|      0.0|  (694,[0],[1.0])|\n",
      "|http://03513659.com/|       20|com|       66.66666667|                 1.0|        0.5229071|0.022362618|        3|            0|               3|            0.15|              8|            0.4|              0|             0|                 0|                         2|                  0.1|      0|         4|               59|       0|                 12.5|              12.5|         0|     0|           0|              0|               0|             0|        0|         0|                    0|           0|              0|              0|               0|   0|  0|     0|               0|        0|      0|     0|          1|           0|              1|    0|      0.0|  (694,[0],[1.0])|\n",
      "|http://08713659.com/|       20|com|       50.64102564|                 1.0|        0.5229071|0.022322758|        3|            0|               3|            0.15|              8|            0.4|              0|             0|                 0|                         2|                  0.1|      0|         4|               59|       0|                 12.5|              12.5|         0|     0|           0|              0|               0|             0|        0|         0|                    0|           0|              0|              0|               0|   0|  0|     0|               0|        0|      0|     0|          1|           0|              1|    0|      0.0|  (694,[0],[1.0])|\n",
      "|http://0lx.975895...|       32|xyz|       20.66461538|         0.916666667|        0.0017496| 0.01660088|        3|            1|              12|           0.375|             10|          0.312|              0|             0|                 0|                         3|                0.094|      0|       124|              111|       0|          8.333333333|               5.0|         0|     0|           0|              0|               0|             0|        0|         0|                    0|           0|              0|              0|               0|   0|  0|     0|               0|        0|      0|     0|          0|           0|              0|    0|     21.0| (694,[21],[1.0])|\n",
      "|http://1000565326...|       28| id|       34.40527726|                 1.0|        0.0014653|0.009879002|        2|            1|               4|           0.143|             15|          0.536|              0|             0|                 0|                         2|                0.071|      0|         3|              162|       0|          5.555555556|       5.555555556|         0|     0|           0|              1|               0|             0|        0|         0|                    0|           0|              0|              0|               0|   0|  0|     0|               0|        0|      0|     0|          0|           0|              0|    0|     33.0| (694,[33],[1.0])|\n",
      "|http://104.129.20...|       88|net|       12.57170048|                 0.5|        0.0384199|0.052818387|        3|            5|              57|           0.648|             11|          0.125|              1|             1|                 0|                        11|                0.148|      0|         2|               97|       0|                3.125|       1.315789474|         0|     0|           0|              0|               0|             0|        0|         0|                    0|           0|              0|              0|               0|   0|  0|     0|               0|        0|      0|     0|          0|           0|              0|    0|      2.0|  (694,[2],[1.0])|\n",
      "|http://104.14.132...|       22|210|       44.48979592|                 0.4|              0.0|0.001783516|        3|            2|               0|             0.0|             11|            0.5|              0|             0|                 0|                         4|                0.182|      0|        17|               70|       0|                 10.0|              10.0|         0|     0|           0|              0|               0|             0|        0|         0|                    0|           0|              0|              0|               0|   0|  0|     0|               0|        0|      0|     0|          1|           0|              0|    0|    465.0|(694,[465],[1.0])|\n",
      "|http://119.vn/suc...|       25| vn|       37.11911357|                 1.0|        0.0013635|0.043920888|        2|            0|              12|            0.48|              3|           0.12|              0|             0|                 0|                         3|                 0.12|      0|       162|              110|       0|                  0.0|               0.0|         0|     0|           1|              0|               0|             0|        0|         0|                    0|           0|              0|              0|               0|   0|  1|     0|               0|        3|      1|     2|          0|           0|              1|    0|     72.0| (694,[72],[1.0])|\n",
      "+--------------------+---------+---+------------------+--------------------+-----------------+-----------+---------+-------------+----------------+----------------+---------------+---------------+---------------+--------------+------------------+--------------------------+---------------------+-------+----------+-----------------+--------+---------------------+------------------+----------+------+------------+---------------+----------------+--------------+---------+----------+---------------------+------------+---------------+---------------+----------------+----+---+------+----------------+---------+-------+------+-----------+------------+---------------+-----+---------+-----------------+\n",
      "only showing top 10 rows\n",
      "\n"
     ]
    }
   ],
   "source": [
    "##one HOT Encoding for categorial feauters\n",
    "\n",
    "# Indexing the categorical column\n",
    "string_indexer = StringIndexer(inputCol=\"TLD\", outputCol=\"TLD\" + \"_index\")\n",
    "\n",
    "# Applying one-hot encoding\n",
    "encoder = OneHotEncoder(inputCols=[\"TLD\" + \"_index\"], outputCols=[\"TLD_Encoded\"])\n",
    "\n",
    "# Define the pipeline\n",
    "pipeline = Pipeline(stages=[string_indexer, encoder])\n",
    "\n",
    "# Fit the pipeline to the data\n",
    "pipeline_model = pipeline.fit(filtered_rdd)\n",
    "\n",
    "# Transform the data\n",
    "df_encoded = pipeline_model.transform(filtered_rdd)\n",
    "\n",
    "print(df_encoded.count())\n",
    "\n",
    "# Show the result\n",
    "df_encoded.show(10)"
   ]
  },
  {
   "cell_type": "markdown",
   "metadata": {},
   "source": [
    "# generate descriptive statistics\n",
    "filtered_rdd.describe().show()\n"
   ]
  },
  {
   "cell_type": "code",
   "execution_count": 25,
   "metadata": {},
   "outputs": [],
   "source": [
    "# split the dataset into the rows that are real and phishing based on the label column\n",
    "# where 1 is phishing and 0 is real\n",
    "all_legitimate_rdd = filtered_rdd.where(filtered_rdd[\"label\"] == 0)\n",
    "all_phishing_rdd = filtered_rdd.where(filtered_rdd[\"label\"] == 1)"
   ]
  },
  {
   "cell_type": "code",
   "execution_count": 26,
   "metadata": {},
   "outputs": [
    {
     "name": "stdout",
     "output_type": "stream",
     "text": [
      "Legitimate URLs:  100520\n",
      "Phishing URLs:  134850\n"
     ]
    }
   ],
   "source": [
    "# show the number of the legitimate and phishing URLs\n",
    "print(\"Legitimate URLs: \", all_legitimate_rdd.count())\n",
    "print(\"Phishing URLs: \", all_phishing_rdd.count())\n"
   ]
  },
  {
   "cell_type": "code",
   "execution_count": 27,
   "metadata": {},
   "outputs": [],
   "source": [
    "# # show histograms for integer columns in the dataset to understand the distribution of the data\n",
    "\n",
    "\n",
    "# # convert the rdd to a pandas dataframe\n",
    "# phishing_df = phishing_rdd.toPandas()\n",
    "\n",
    "# # plot histograms for integer columns\n",
    "# for col in phishing_df.select_dtypes(include=[\"int\"]).columns:\n",
    "#     sns.histplot(phishing_df[col])\n",
    "#     plt.title(col)\n",
    "#     plt.show()\n",
    "    "
   ]
  },
  {
   "cell_type": "markdown",
   "metadata": {},
   "source": [
    "## 3- Model & Training"
   ]
  },
  {
   "cell_type": "code",
   "execution_count": null,
   "metadata": {},
   "outputs": [],
   "source": []
  },
  {
   "cell_type": "markdown",
   "metadata": {},
   "source": [
    "## 4- Evaluation"
   ]
  },
  {
   "cell_type": "code",
   "execution_count": null,
   "metadata": {},
   "outputs": [],
   "source": []
  }
 ],
 "metadata": {
  "kernelspec": {
   "display_name": "base",
   "language": "python",
   "name": "python3"
  },
  "language_info": {
   "codemirror_mode": {
    "name": "ipython",
    "version": 3
   },
   "file_extension": ".py",
   "mimetype": "text/x-python",
   "name": "python",
   "nbconvert_exporter": "python",
   "pygments_lexer": "ipython3",
   "version": "3.10.0"
  }
 },
 "nbformat": 4,
 "nbformat_minor": 2
}
