{
 "cells": [
  {
   "cell_type": "code",
   "execution_count": 20,
   "metadata": {},
   "outputs": [],
   "source": [
    "import pyspark \n",
    "from pyspark.sql import SparkSession\n",
    "from pyspark.sql.functions import lit "
   ]
  },
  {
   "cell_type": "code",
   "execution_count": 6,
   "metadata": {},
   "outputs": [
    {
     "data": {
      "text/html": [
       "\n",
       "            <div>\n",
       "                <p><b>SparkSession - in-memory</b></p>\n",
       "                \n",
       "        <div>\n",
       "            <p><b>SparkContext</b></p>\n",
       "\n",
       "            <p><a href=\"http://DESKTOP-O7IOKQB:4040\">Spark UI</a></p>\n",
       "\n",
       "            <dl>\n",
       "              <dt>Version</dt>\n",
       "                <dd><code>v3.5.1</code></dd>\n",
       "              <dt>Master</dt>\n",
       "                <dd><code>local[*]</code></dd>\n",
       "              <dt>AppName</dt>\n",
       "                <dd><code>Project</code></dd>\n",
       "            </dl>\n",
       "        </div>\n",
       "        \n",
       "            </div>\n",
       "        "
      ],
      "text/plain": [
       "<pyspark.sql.session.SparkSession at 0x29453f053f0>"
      ]
     },
     "execution_count": 6,
     "metadata": {},
     "output_type": "execute_result"
    }
   ],
   "source": [
    "pyspark_session=SparkSession.builder.appName(\"Project\").getOrCreate()\n",
    "pyspark_session\n"
   ]
  },
  {
   "cell_type": "code",
   "execution_count": 7,
   "metadata": {},
   "outputs": [],
   "source": [
    "df_pyspark = pyspark_session.read.csv('PhiUSIIL_Phishing_URL_Dataset.csv',inferSchema=True,header=True)"
   ]
  },
  {
   "cell_type": "code",
   "execution_count": 15,
   "metadata": {},
   "outputs": [
    {
     "name": "stdout",
     "output_type": "stream",
     "text": [
      "[Row(FILENAME='521848.txt', URL='https://www.southbankmosaics.com', URLLength=31, Domain='www.southbankmosaics.com', DomainLength=24, IsDomainIP=0, TLD='com', URLSimilarityIndex=100.0, CharContinuationRate=1.0, TLDLegitimateProb=0.5229071, URLCharProb=0.061933179, TLDLength=3, NoOfSubDomain=1, HasObfuscation=0, NoOfObfuscatedChar=0, ObfuscationRatio=0.0, NoOfLettersInURL=18, LetterRatioInURL=0.581, NoOfDegitsInURL=0, DegitRatioInURL=0.0, NoOfEqualsInURL=0, NoOfQMarkInURL=0, NoOfAmpersandInURL=0, NoOfOtherSpecialCharsInURL=1, SpacialCharRatioInURL=0.032, IsHTTPS=1, LineOfCode=558, LargestLineLength=9381, HasTitle=1, Title='à¸‚à¹ˆà¸²à¸§à¸ªà¸” à¸‚à¹ˆà¸²à¸§à¸§à¸±à¸™à¸™à¸µà¹‰ à¸‚à¹ˆà¸²à¸§à¸\\x81à¸µà¸¬à¸² à¸‚à¹ˆà¸²à¸§à¸šà¸±à¸™à¹€à¸—à¸´à¸‡ à¸\\xadà¸±à¸žà¹€à¸”à¸—à¸ªà¸”à¹ƒà¸«à¸¡à¹ˆà¸—à¸¸à¸\\x81à¸§à¸±à¸™ &#8211; à¸‚à¹ˆà¸²à¸§à¸ªà¸” à¸‚à¹ˆà¸²à¸§à¸\\x81à¸µà¸¬à¸² à¸‚à¹ˆà¸²à¸§à¸šà¸±à¸™à¹€à¸—à¸´à¸‡ à¸‚à¹ˆà¸²à¸§à¸§à¸±à¸™à¸™à¸µà¹‰ à¸\\xadà¸±à¸›à¹€à¸”à¸•à¸‚à¹ˆà¸²à¸§à¸ªà¸²à¸£à¸£à¸§à¸”à¹€à¸£à¹‡à¸§à¸—à¸±à¸™à¹ƒà¸ˆ à¸žà¸£à¹‰à¸\\xadà¸¡à¸£à¸±à¸šà¸Šà¸¡à¸ªà¸²à¸£à¸°à¸™à¹ˆà¸²à¸£à¸¹à¹‰à¸•à¹ˆà¸²à¸‡à¹† à¹„à¸”à¹‰à¸Ÿà¸£à¸µà¸•à¸¥à¸\\xadà¸” 24à¸Šà¸±à¹ˆà¸§à¹‚à¸¡à¸‡', DomainTitleMatchScore=0.0, URLTitleMatchScore=0.0, HasFavicon=0, Robots=1, IsResponsive=1, NoOfURLRedirect=0, NoOfSelfRedirect=0, HasDescription=0, NoOfPopup=0, NoOfiFrame=1, HasExternalFormSubmit=0, HasSocialNet=0, HasSubmitButton=1, HasHiddenFields=1, HasPasswordField=0, Bank=1, Pay=0, Crypto=0, HasCopyrightInfo=1, NoOfImage=34, NoOfCSS=20, NoOfJS=28, NoOfSelfRef=119, NoOfEmptyRef=0, NoOfExternalRef=124, label=1)]\n"
     ]
    }
   ],
   "source": [
    "##print first 3 records in the data fram\n",
    "print(df_pyspark.head(1))\n"
   ]
  },
  {
   "cell_type": "code",
   "execution_count": 14,
   "metadata": {},
   "outputs": [
    {
     "name": "stdout",
     "output_type": "stream",
     "text": [
      "root\n",
      " |-- FILENAME: string (nullable = true)\n",
      " |-- URL: string (nullable = true)\n",
      " |-- URLLength: integer (nullable = true)\n",
      " |-- Domain: string (nullable = true)\n",
      " |-- DomainLength: integer (nullable = true)\n",
      " |-- IsDomainIP: integer (nullable = true)\n",
      " |-- TLD: string (nullable = true)\n",
      " |-- URLSimilarityIndex: double (nullable = true)\n",
      " |-- CharContinuationRate: double (nullable = true)\n",
      " |-- TLDLegitimateProb: double (nullable = true)\n",
      " |-- URLCharProb: double (nullable = true)\n",
      " |-- TLDLength: integer (nullable = true)\n",
      " |-- NoOfSubDomain: integer (nullable = true)\n",
      " |-- HasObfuscation: integer (nullable = true)\n",
      " |-- NoOfObfuscatedChar: integer (nullable = true)\n",
      " |-- ObfuscationRatio: double (nullable = true)\n",
      " |-- NoOfLettersInURL: integer (nullable = true)\n",
      " |-- LetterRatioInURL: double (nullable = true)\n",
      " |-- NoOfDegitsInURL: integer (nullable = true)\n",
      " |-- DegitRatioInURL: double (nullable = true)\n",
      " |-- NoOfEqualsInURL: integer (nullable = true)\n",
      " |-- NoOfQMarkInURL: integer (nullable = true)\n",
      " |-- NoOfAmpersandInURL: integer (nullable = true)\n",
      " |-- NoOfOtherSpecialCharsInURL: integer (nullable = true)\n",
      " |-- SpacialCharRatioInURL: double (nullable = true)\n",
      " |-- IsHTTPS: integer (nullable = true)\n",
      " |-- LineOfCode: integer (nullable = true)\n",
      " |-- LargestLineLength: integer (nullable = true)\n",
      " |-- HasTitle: integer (nullable = true)\n",
      " |-- Title: string (nullable = true)\n",
      " |-- DomainTitleMatchScore: double (nullable = true)\n",
      " |-- URLTitleMatchScore: double (nullable = true)\n",
      " |-- HasFavicon: integer (nullable = true)\n",
      " |-- Robots: integer (nullable = true)\n",
      " |-- IsResponsive: integer (nullable = true)\n",
      " |-- NoOfURLRedirect: integer (nullable = true)\n",
      " |-- NoOfSelfRedirect: integer (nullable = true)\n",
      " |-- HasDescription: integer (nullable = true)\n",
      " |-- NoOfPopup: integer (nullable = true)\n",
      " |-- NoOfiFrame: integer (nullable = true)\n",
      " |-- HasExternalFormSubmit: integer (nullable = true)\n",
      " |-- HasSocialNet: integer (nullable = true)\n",
      " |-- HasSubmitButton: integer (nullable = true)\n",
      " |-- HasHiddenFields: integer (nullable = true)\n",
      " |-- HasPasswordField: integer (nullable = true)\n",
      " |-- Bank: integer (nullable = true)\n",
      " |-- Pay: integer (nullable = true)\n",
      " |-- Crypto: integer (nullable = true)\n",
      " |-- HasCopyrightInfo: integer (nullable = true)\n",
      " |-- NoOfImage: integer (nullable = true)\n",
      " |-- NoOfCSS: integer (nullable = true)\n",
      " |-- NoOfJS: integer (nullable = true)\n",
      " |-- NoOfSelfRef: integer (nullable = true)\n",
      " |-- NoOfEmptyRef: integer (nullable = true)\n",
      " |-- NoOfExternalRef: integer (nullable = true)\n",
      " |-- label: integer (nullable = true)\n",
      "\n",
      "None\n"
     ]
    }
   ],
   "source": [
    "df_pyspark.printSchema()"
   ]
  },
  {
   "cell_type": "code",
   "execution_count": 26,
   "metadata": {},
   "outputs": [
    {
     "name": "stdout",
     "output_type": "stream",
     "text": [
      "235795\n"
     ]
    }
   ],
   "source": [
    "df_pyspark=df_pyspark.drop(\"Title\")\n",
    "\n",
    "print(df_pyspark.count())\n",
    "\n"
   ]
  },
  {
   "cell_type": "code",
   "execution_count": 27,
   "metadata": {},
   "outputs": [
    {
     "name": "stdout",
     "output_type": "stream",
     "text": [
      "235795\n",
      "+-----------+--------------------+---------+--------------------+------------+----------+---+------------------+--------------------+-----------------+-----------+---------+-------------+--------------+------------------+----------------+----------------+----------------+---------------+---------------+---------------+--------------+------------------+--------------------------+---------------------+-------+----------+-----------------+--------+---------------------+------------------+----------+------+------------+---------------+----------------+--------------+---------+----------+---------------------+------------+---------------+---------------+----------------+----+---+------+----------------+---------+-------+------+-----------+------------+---------------+-----+\n",
      "|   FILENAME|                 URL|URLLength|              Domain|DomainLength|IsDomainIP|TLD|URLSimilarityIndex|CharContinuationRate|TLDLegitimateProb|URLCharProb|TLDLength|NoOfSubDomain|HasObfuscation|NoOfObfuscatedChar|ObfuscationRatio|NoOfLettersInURL|LetterRatioInURL|NoOfDegitsInURL|DegitRatioInURL|NoOfEqualsInURL|NoOfQMarkInURL|NoOfAmpersandInURL|NoOfOtherSpecialCharsInURL|SpacialCharRatioInURL|IsHTTPS|LineOfCode|LargestLineLength|HasTitle|DomainTitleMatchScore|URLTitleMatchScore|HasFavicon|Robots|IsResponsive|NoOfURLRedirect|NoOfSelfRedirect|HasDescription|NoOfPopup|NoOfiFrame|HasExternalFormSubmit|HasSocialNet|HasSubmitButton|HasHiddenFields|HasPasswordField|Bank|Pay|Crypto|HasCopyrightInfo|NoOfImage|NoOfCSS|NoOfJS|NoOfSelfRef|NoOfEmptyRef|NoOfExternalRef|label|\n",
      "+-----------+--------------------+---------+--------------------+------------+----------+---+------------------+--------------------+-----------------+-----------+---------+-------------+--------------+------------------+----------------+----------------+----------------+---------------+---------------+---------------+--------------+------------------+--------------------------+---------------------+-------+----------+-----------------+--------+---------------------+------------------+----------+------+------------+---------------+----------------+--------------+---------+----------+---------------------+------------+---------------+---------------+----------------+----+---+------+----------------+---------+-------+------+-----------+------------+---------------+-----+\n",
      "| 521848.txt|https://www.south...|       31|www.southbankmosa...|          24|         0|com|             100.0|                 1.0|        0.5229071|0.061933179|        3|            1|             0|                 0|             0.0|              18|           0.581|              0|            0.0|              0|             0|                 0|                         1|                0.032|      1|       558|             9381|       1|                  0.0|               0.0|         0|     1|           1|              0|               0|             0|        0|         1|                    0|           0|              1|              1|               0|   1|  0|     0|               1|       34|     20|    28|        119|           0|            124|    1|\n",
      "|  31372.txt|https://www.uni-m...|       23|    www.uni-mainz.de|          16|         0| de|             100.0|         0.666666667|        0.0326503|0.050207214|        2|            1|             0|                 0|             0.0|               9|           0.391|              0|            0.0|              0|             0|                 0|                         2|                0.087|      1|       618|             9381|       1|          55.55555556|       55.55555556|         1|     1|           0|              0|               0|             0|        0|         0|                    0|           1|              1|              0|               0|   0|  0|     0|               1|       50|      9|     8|         39|           0|            217|    1|\n",
      "| 597387.txt|https://www.voice...|       29|www.voicefmradio....|          22|         0| uk|             100.0|         0.866666667|         0.028555| 0.06412872|        2|            2|             0|                 0|             0.0|              15|           0.517|              0|            0.0|              0|             0|                 0|                         2|                0.069|      1|       467|              682|       1|          46.66666667|       46.66666667|         0|     1|           1|              0|               0|             1|        0|         0|                    0|           0|              1|              1|               0|   0|  0|     0|               1|       10|      2|     7|         42|           2|              5|    1|\n",
      "| 554095.txt|https://www.sfnmj...|       26| www.sfnmjournal.com|          19|         0|com|             100.0|                 1.0|        0.5229071|0.057605756|        3|            1|             0|                 0|             0.0|              13|             0.5|              0|            0.0|              0|             0|                 0|                         1|                0.038|      1|      6356|            26824|       1|                  0.0|               0.0|         0|     1|           1|              0|               0|             0|        1|        12|                    0|           1|              1|              1|               0|   0|  1|     1|               1|        3|     27|    15|         22|           1|             31|    1|\n",
      "| 151578.txt|https://www.rewil...|       33|www.rewildingarge...|          26|         0|org|             100.0|                 1.0|        0.0799628|0.059441389|        3|            1|             0|                 0|             0.0|              20|           0.606|              0|            0.0|              0|             0|                 0|                         1|                 0.03|      1|      6089|            28404|       1|                100.0|             100.0|         0|     1|           1|              1|               1|             1|        0|         2|                    0|           1|              1|              1|               0|   1|  1|     0|               1|      244|     15|    34|         72|           1|             85|    1|\n",
      "|  23107.txt|https://www.globa...|       30|www.globalreporti...|          23|         0|org|             100.0|                 1.0|        0.0799628|0.060614474|        3|            1|             0|                 0|             0.0|              17|           0.567|              0|            0.0|              0|             0|                 0|                         1|                0.033|      1|      1210|              737|       1|                  0.0|               0.0|         0|     0|           1|              0|               0|             1|        1|         1|                    0|           1|              0|              1|               0|   0|  0|     0|               1|       35|      1|    11|         86|           0|             14|    1|\n",
      "|  23034.txt|https://www.saffr...|       25|  www.saffronart.com|          18|         0|com|             100.0|                 1.0|        0.5229071|0.063549404|        3|            1|             0|                 0|             0.0|              12|            0.48|              0|            0.0|              0|             0|                 0|                         1|                 0.04|      1|      1024|              984|       1|                  0.0|               0.0|         1|     0|           1|              1|               1|             0|        2|         4|                    0|           1|              0|              1|               0|   0|  0|     0|               1|       32|      4|    14|         44|           2|             17|    1|\n",
      "| 696732.txt|https://www.nerds...|       25|  www.nerdscandy.com|          18|         0|com|             100.0|                 1.0|        0.5229071|  0.0604856|        3|            1|             0|                 0|             0.0|              12|            0.48|              0|            0.0|              0|             0|                 0|                         1|                 0.04|      1|       514|              399|       1|                100.0|             100.0|         1|     0|           1|              0|               0|             1|        0|         1|                    0|           1|              1|              0|               0|   0|  0|     0|               1|       24|      2|    22|         36|           0|             15|    1|\n",
      "| 739255.txt|https://www.hyder...|       29|www.hyderabadonli...|          22|         0| in|             100.0|                 1.0|        0.0050842|0.056980442|        2|            1|             0|                 0|             0.0|              16|           0.552|              0|            0.0|              0|             0|                 0|                         1|                0.034|      1|      2371|            12913|       1|                100.0|             100.0|         0|     1|           1|              0|               0|             1|        0|         0|                    0|           1|              1|              1|               1|   0|  0|     0|               1|       71|      4|     9|         40|           1|            317|    1|\n",
      "|  14486.txt| https://www.aap.org|       18|         www.aap.org|          11|         0|org|             100.0|                 1.0|        0.0799628|0.070497453|        3|            1|             0|                 0|             0.0|               5|           0.278|              0|            0.0|              0|             0|                 0|                         1|                0.056|      1|      2730|              481|       1|                  0.0|               0.0|         1|     1|           1|              0|               0|             1|        0|         2|                    0|           1|              0|              0|               0|   0|  0|     0|               1|       10|      1|    12|        173|           6|             65|    1|\n",
      "| 167350.txt|https://www.relig...|       33|www.religionenlib...|          26|         0|com|             100.0|                 1.0|        0.5229071|0.063946492|        3|            1|             0|                 0|             0.0|              20|           0.606|              0|            0.0|              0|             0|                 0|                         1|                 0.03|      1|      2616|              584|       1|          55.55555556|       55.55555556|         1|     1|           1|              0|               0|             1|        0|         5|                    0|           1|              1|              0|               0|   0|  1|     0|               1|       80|     13|    10|        376|           1|              9|    1|\n",
      "|mw42508.txt|http://www.terami...|       22|    www.teramill.com|          16|         0|com|        82.6446281|                 1.0|        0.5229071| 0.06741797|        3|            1|             0|                 0|             0.0|              10|           0.455|              0|            0.0|              0|             0|                 0|                         1|                0.045|      0|         2|               87|       0|                  0.0|               0.0|         0|     0|           0|              0|               0|             0|        0|         0|                    0|           0|              0|              0|               0|   0|  0|     0|               0|        0|      0|     0|          0|           0|              1|    0|\n",
      "| 515489.txt|https://www.socia...|       27|www.socialpolicy.org|          20|         0|org|             100.0|                 1.0|        0.0799628|0.064491134|        3|            1|             0|                 0|             0.0|              14|           0.519|              0|            0.0|              0|             0|                 0|                         1|                0.037|      1|      1043|             1037|       1|                 50.0|              50.0|         1|     0|           0|              0|               0|             1|       12|         1|                    0|           0|              1|              1|               1|   1|  0|     0|               1|       16|      9|    13|         92|           1|             18|    1|\n",
      "| 858208.txt|https://www.aoh61...|       20|       www.aoh61.com|          13|         0|com|             100.0|                 1.0|        0.5229071|0.055131169|        3|            1|             0|                 0|             0.0|               5|            0.25|              2|            0.1|              0|             0|                 0|                         1|                 0.05|      1|      5966|            22382|       1|                  0.0|               0.0|         1|     0|           1|              0|               0|             0|        0|         5|                    0|           1|              0|              0|               0|   0|  0|     0|               0|       16|      4|     7|          4|           0|             14|    1|\n",
      "| 712305.txt|https://www.bulga...|       26| www.bulgariaski.com|          19|         0|com|             100.0|                 1.0|        0.5229071|0.055714659|        3|            1|             0|                 0|             0.0|              13|             0.5|              0|            0.0|              0|             0|                 0|                         1|                0.038|      1|      2639|             1574|       1|                100.0|             100.0|         1|     1|           1|              0|               0|             0|        0|         2|                    0|           1|              1|              1|               0|   0|  1|     0|               1|       63|     12|    22|        156|           2|            184|    1|\n",
      "| 252332.txt|https://www.brigh...|       24|   www.brightika.com|          17|         0|com|             100.0|                 1.0|        0.5229071|0.053754992|        3|            1|             0|                 0|             0.0|              11|           0.458|              0|            0.0|              0|             0|                 0|                         1|                0.042|      1|      5509|              550|       1|                  0.0|               0.0|         1|     0|           1|              0|               0|             0|        0|         0|                    0|           0|              1|              0|               0|   0|  0|     0|               1|       12|     14|    19|          2|           1|             14|    1|\n",
      "| 862789.txt|https://www.motle...|       20|       www.motley.ie|          13|         0| ie|             100.0|                 1.0|        0.0015878|0.061203697|        2|            1|             0|                 0|             0.0|               7|            0.35|              0|            0.0|              0|             0|                 0|                         1|                 0.05|      1|      2839|             8047|       1|                100.0|             100.0|         0|     1|           1|              0|               0|             0|        0|         0|                    0|           1|              1|              0|               0|   0|  0|     0|               1|       56|     10|    16|        235|           0|            254|    1|\n",
      "| 561324.txt|https://www.funzi...|       21|      www.funzine.hu|          14|         0| hu|             100.0|                 1.0|        0.0022172|0.042916591|        2|            1|             0|                 0|             0.0|               8|           0.381|              0|            0.0|              0|             0|                 0|                         1|                0.048|      1|      1576|             1907|       1|                100.0|             100.0|         0|     1|           1|              0|               0|             1|        0|         2|                    0|           1|              1|              1|               0|   1|  0|     0|               1|       52|     10|    27|          0|           1|            143|    1|\n",
      "| 791831.txt|https://www.dixxo...|       21|      www.dixxon.com|          14|         0|com|             100.0|                 1.0|        0.5229071|0.054492147|        3|            1|             0|                 0|             0.0|               8|           0.381|              0|            0.0|              0|             0|                 0|                         1|                0.048|      1|      5004|            13844|       1|                  0.0|               0.0|         1|     0|           1|              0|               0|             1|        0|        21|                    0|           1|              1|              1|               1|   1|  1|     0|               1|      259|     14|    33|        168|           1|             90|    1|\n",
      "| 861208.txt|https://www.ooty....|       22|     www.ooty.ind.in|          15|         0| in|             100.0|               0.625|        0.0050842|0.060958413|        2|            2|             0|                 0|             0.0|               8|           0.364|              0|            0.0|              0|             0|                 0|                         2|                0.091|      1|       719|             1842|       1|                 80.0|              80.0|         1|     0|           1|              0|               0|             1|        0|         0|                    0|           0|              0|              0|               0|   1|  1|     0|               0|       21|      0|     2|          2|           0|              1|    1|\n",
      "+-----------+--------------------+---------+--------------------+------------+----------+---+------------------+--------------------+-----------------+-----------+---------+-------------+--------------+------------------+----------------+----------------+----------------+---------------+---------------+---------------+--------------+------------------+--------------------------+---------------------+-------+----------+-----------------+--------+---------------------+------------------+----------+------+------------+---------------+----------------+--------------+---------+----------+---------------------+------------+---------------+---------------+----------------+----+---+------+----------------+---------+-------+------+-----------+------------+---------------+-----+\n",
      "only showing top 20 rows\n",
      "\n"
     ]
    }
   ],
   "source": [
    "df_pyspark=df_pyspark.na.drop()\n",
    "print(df_pyspark.count())\n",
    "df_pyspark.show()"
   ]
  },
  {
   "cell_type": "code",
   "execution_count": 28,
   "metadata": {},
   "outputs": [
    {
     "name": "stdout",
     "output_type": "stream",
     "text": [
      "235795\n",
      "+-----------+--------------------+---------+--------------------+------------+----------+---+------------------+--------------------+-----------------+-----------+---------+-------------+--------------+------------------+----------------+----------------+----------------+---------------+---------------+---------------+--------------+------------------+--------------------------+---------------------+-------+----------+-----------------+--------+---------------------+------------------+----------+------+------------+---------------+----------------+--------------+---------+----------+---------------------+------------+---------------+---------------+----------------+----+---+------+----------------+---------+-------+------+-----------+------------+---------------+-----+\n",
      "|   FILENAME|                 URL|URLLength|              Domain|DomainLength|IsDomainIP|TLD|URLSimilarityIndex|CharContinuationRate|TLDLegitimateProb|URLCharProb|TLDLength|NoOfSubDomain|HasObfuscation|NoOfObfuscatedChar|ObfuscationRatio|NoOfLettersInURL|LetterRatioInURL|NoOfDegitsInURL|DegitRatioInURL|NoOfEqualsInURL|NoOfQMarkInURL|NoOfAmpersandInURL|NoOfOtherSpecialCharsInURL|SpacialCharRatioInURL|IsHTTPS|LineOfCode|LargestLineLength|HasTitle|DomainTitleMatchScore|URLTitleMatchScore|HasFavicon|Robots|IsResponsive|NoOfURLRedirect|NoOfSelfRedirect|HasDescription|NoOfPopup|NoOfiFrame|HasExternalFormSubmit|HasSocialNet|HasSubmitButton|HasHiddenFields|HasPasswordField|Bank|Pay|Crypto|HasCopyrightInfo|NoOfImage|NoOfCSS|NoOfJS|NoOfSelfRef|NoOfEmptyRef|NoOfExternalRef|label|\n",
      "+-----------+--------------------+---------+--------------------+------------+----------+---+------------------+--------------------+-----------------+-----------+---------+-------------+--------------+------------------+----------------+----------------+----------------+---------------+---------------+---------------+--------------+------------------+--------------------------+---------------------+-------+----------+-----------------+--------+---------------------+------------------+----------+------+------------+---------------+----------------+--------------+---------+----------+---------------------+------------+---------------+---------------+----------------+----+---+------+----------------+---------+-------+------+-----------+------------+---------------+-----+\n",
      "|8053155.txt|https://acesseonl...|       98|acesseonline-feve...|          26|         0|net|        13.5341202|         0.590909091|        0.0384199|0.045335591|        3|            0|             0|                 0|             0.0|              74|           0.755|              6|          0.061|              3|             1|                 0|                         6|                0.102|      1|         2|              106|       0|                  0.0|               0.0|         0|     0|           0|              0|               0|             0|        0|         0|                    0|           0|              0|              0|               0|   0|  0|     0|               0|        0|      0|     0|          0|           0|              0|    0|\n",
      "|  55181.txt|https://www.siia.net|       19|        www.siia.net|          12|         0|net|             100.0|                 1.0|        0.0384199|0.068467197|        3|            1|             0|                 0|             0.0|               6|           0.316|              0|            0.0|              0|             0|                 0|                         1|                0.053|      1|      2132|             7704|       1|                100.0|             100.0|         0|     1|           1|              1|               0|             1|        0|         0|                    0|           1|              1|              1|               0|   0|  0|     0|               1|       14|     26|    41|        109|           4|            127|    1|\n",
      "| 431308.txt|https://www.koozy...|       21|      www.koozyt.com|          14|         0|com|             100.0|                 1.0|        0.5229071|0.058687163|        3|            1|             0|                 0|             0.0|               8|           0.381|              0|            0.0|              0|             0|                 0|                         1|                0.048|      1|       702|              227|       1|                100.0|             100.0|         0|     0|           1|              0|               0|             1|        0|         0|                    0|           1|              0|              0|               0|   0|  0|     0|               1|       37|      7|    13|         44|           0|              4|    1|\n",
      "|8052598.txt|https://www-info-...|       46|www-info-cr-mufg....|          31|         0|com|       34.78940266|         0.407407407|        0.5229071|0.043566902|        3|            1|             0|                 0|             0.0|              31|           0.674|              0|            0.0|              0|             0|                 0|                         7|                0.152|      1|        35|              126|       1|                  0.0|               0.0|         0|     1|           1|              1|               0|             0|        0|         0|                    0|           0|              0|              0|               0|   0|  0|     0|               0|        0|      0|     1|          0|           0|              0|    0|\n",
      "|  85741.txt|https://www.match...|       29|www.matchaeologis...|          22|         0|com|             100.0|                 1.0|        0.5229071|0.068192069|        3|            1|             0|                 0|             0.0|              16|           0.552|              0|            0.0|              0|             0|                 0|                         1|                0.034|      1|      6440|            47560|       1|                100.0|             100.0|         1|     0|           1|              1|               1|             1|        0|        36|                    0|           1|              1|              1|               1|   1|  1|     0|               1|       28|     15|    43|        108|           1|             23|    1|\n",
      "| 870982.txt|https://www.iandl...|       28|www.iandl.marines...|          21|         0|mil|             100.0|         0.615384615|         2.984E-4|0.062267135|        3|            2|             0|                 0|             0.0|              14|             0.5|              0|            0.0|              0|             0|                 0|                         2|                0.071|      1|      2284|             9279|       1|                  0.0|               0.0|         0|     1|           1|              0|               0|             0|        1|         3|                    0|           1|              0|              1|               0|   0|  1|     0|               1|       23|      8|     8|         73|          13|             78|    1|\n",
      "| 177150.txt|https://www.idcpc...|       23|    www.idcpc.org.cn|          16|         0| cn|             100.0|         0.666666667|        0.0033218|0.058844161|        2|            2|             0|                 0|             0.0|               9|           0.391|              0|            0.0|              0|             0|                 0|                         2|                0.087|      1|      2588|              381|       1|                  0.0|               0.0|         0|     0|           1|              0|               0|             1|        0|         0|                    0|           0|              1|              1|               0|   0|  0|     0|               1|      106|     28|    11|         12|           0|             49|    1|\n",
      "| 121756.txt|https://www.gjiro...|       26| www.gjirokastra.org|          19|         0|org|             100.0|                 1.0|        0.0799628|0.059844147|        3|            1|             0|                 0|             0.0|              13|             0.5|              0|            0.0|              0|             0|                 0|                         1|                0.038|      1|       424|              176|       1|                100.0|             100.0|         0|     0|           1|              0|               0|             1|        0|         0|                    0|           1|              0|              0|               0|   0|  0|     0|               1|        8|      2|     3|          0|           3|              1|    1|\n",
      "| 820433.txt|https://www.metli...|       21|      www.metlika.si|          14|         0| si|             100.0|                 1.0|         4.946E-4|0.058198311|        2|            1|             0|                 0|             0.0|               8|           0.381|              0|            0.0|              0|             0|                 0|                         1|                0.048|      1|      2110|            17596|       1|                100.0|             100.0|         1|     0|           1|              0|               0|             1|        0|         1|                    0|           1|              1|              0|               0|   0|  1|     0|               1|       39|      8|     0|        173|          14|             32|    1|\n",
      "| 414370.txt|https://www.convi...|       23|    www.convivium.ca|          16|         0| ca|             100.0|                 1.0|        0.0101825|0.054759065|        2|            1|             0|                 0|             0.0|              10|           0.435|              0|            0.0|              0|             0|                 0|                         1|                0.043|      1|       654|              651|       1|          88.88888889|       88.88888889|         0|     1|           1|              0|               0|             0|        0|         0|                    0|           1|              1|              1|               0|   0|  1|     0|               1|       24|      9|    12|        107|           0|             93|    1|\n",
      "| 465486.txt|https://www.flett...|       25|  www.flettner.co.uk|          18|         0| uk|             100.0|         0.818181818|         0.028555|0.061234457|        2|            2|             0|                 0|             0.0|              11|            0.44|              0|            0.0|              0|             0|                 0|                         2|                 0.08|      1|      1391|            14129|       1|                  0.0|               0.0|         0|     1|           1|              0|               0|             1|        0|         2|                    0|           1|              0|              0|               0|   0|  0|     0|               1|       27|     28|    35|        113|           0|            119|    1|\n",
      "| 845253.txt|https://www.nzila...|       22|     www.nzila.co.nz|          15|         0| nz|             100.0|                0.75|        0.0019933|0.060367674|        2|            2|             0|                 0|             0.0|               8|           0.364|              0|            0.0|              0|             0|                 0|                         2|                0.091|      1|       603|              512|       1|                  0.0|               0.0|         1|     0|           1|              0|               0|             1|        8|         0|                    0|           1|              1|              0|               0|   0|  1|     0|               0|       39|      3|     7|         58|           0|              5|    1|\n",
      "|  83212.txt|https://www.astra...|       32|www.astraeafounda...|          25|         0|org|             100.0|                 1.0|        0.0799628|0.066731477|        3|            1|             0|                 0|             0.0|              19|           0.594|              0|            0.0|              0|             0|                 0|                         1|                0.031|      1|      1389|             5710|       1|                100.0|             100.0|         1|     1|           1|              0|               0|             0|        0|         3|                    0|           1|              1|              1|               0|   0|  0|     0|               1|       37|     22|    45|        186|           2|            187|    1|\n",
      "|mw72244.txt|http://www.xsites...|       24|  www.xsites-dev.xyz|          18|         0|xyz|       48.97959184|                 0.7|        0.0017496| 0.04278524|        3|            1|             0|                 0|             0.0|              11|           0.458|              0|            0.0|              0|             0|                 0|                         2|                0.083|      0|        94|              501|       1|                100.0|             100.0|         0|     1|           1|              0|               0|             0|        0|         0|                    0|           0|              0|              0|               0|   0|  0|     0|               0|        0|      1|     1|          2|           0|              3|    0|\n",
      "| 436053.txt|https://www.sales...|       30|www.salesfoundati...|          23|         0|org|             100.0|                 1.0|        0.0799628|0.063893683|        3|            1|             0|                 0|             0.0|              17|           0.567|              0|            0.0|              0|             0|                 0|                         1|                0.033|      1|       636|              610|       1|                100.0|             100.0|         0|     0|           0|              0|               0|             0|        0|         2|                    0|           1|              1|              1|               0|   0|  0|     0|               1|       12|      4|     7|          1|           2|             10|    1|\n",
      "| 530672.txt|https://www.oskal...|       24|   www.oskaloosa.com|          17|         0|com|             100.0|                 1.0|        0.5229071|0.074135437|        3|            1|             0|                 0|             0.0|              11|           0.458|              0|            0.0|              0|             0|                 0|                         1|                0.042|      1|      6088|            24793|       1|                100.0|             100.0|         0|     0|           1|              0|               0|             1|        0|         3|                    0|           1|              1|              1|               0|   0|  0|     0|               1|       76|     10|    57|        248|           4|             69|    1|\n",
      "| 710115.txt|https://www.thecr...|       34|www.thecreatorsca...|          27|         0|com|             100.0|                 1.0|        0.5229071|0.068709519|        3|            1|             0|                 0|             0.0|              21|           0.618|              0|            0.0|              0|             0|                 0|                         1|                0.029|      1|      1651|             2501|       1|                100.0|             100.0|         1|     1|           1|              0|               0|             0|        0|         0|                    0|           1|              1|              0|               0|   0|  1|     0|               1|       55|     11|    19|        322|           3|            324|    1|\n",
      "| 459965.txt|https://www.tuxra...|       23|    www.tuxracer.com|          16|         0|com|             100.0|                 1.0|        0.5229071|0.063389607|        3|            1|             0|                 0|             0.0|              10|           0.435|              0|            0.0|              0|             0|                 0|                         1|                0.043|      1|       318|             1957|       1|                100.0|             100.0|         0|     0|           1|              0|               0|             0|        0|         0|                    0|           0|              1|              0|               0|   0|  0|     0|               1|        7|      7|    11|         60|           2|             64|    1|\n",
      "| 683664.txt|https://www.srrc....|       22|     www.srrc.org.cn|          15|         0| cn|             100.0|               0.625|        0.0033218|0.064776163|        2|            2|             0|                 0|             0.0|               8|           0.364|              0|            0.0|              0|             0|                 0|                         2|                0.091|      1|       521|              398|       1|                  0.0|               0.0|         0|     1|           0|              0|               0|             1|        2|         0|                    0|           0|              1|              1|               0|   0|  0|     0|               1|       15|      9|     6|         26|           0|             60|    1|\n",
      "|mw75401.txt|http://www.g50999...|       20|      www.g50999.com|          14|         0|com|       77.81818182|                 1.0|        0.5229071|0.025995723|        3|            1|             0|                 0|             0.0|               3|            0.15|              5|           0.25|              0|             0|                 0|                         1|                 0.05|      0|        16|               69|       1|                100.0|             100.0|         0|     0|           0|              0|               0|             0|        0|         0|                    0|           0|              0|              0|               0|   0|  0|     0|               0|        0|      0|     0|          0|           0|              0|    0|\n",
      "+-----------+--------------------+---------+--------------------+------------+----------+---+------------------+--------------------+-----------------+-----------+---------+-------------+--------------+------------------+----------------+----------------+----------------+---------------+---------------+---------------+--------------+------------------+--------------------------+---------------------+-------+----------+-----------------+--------+---------------------+------------------+----------+------+------------+---------------+----------------+--------------+---------+----------+---------------------+------------+---------------+---------------+----------------+----+---+------+----------------+---------+-------+------+-----------+------------+---------------+-----+\n",
      "only showing top 20 rows\n",
      "\n"
     ]
    }
   ],
   "source": [
    "df_pyspark=df_pyspark.dropDuplicates()\n",
    "print(df_pyspark.count())\n",
    "df_pyspark.show()"
   ]
  },
  {
   "cell_type": "code",
   "execution_count": 33,
   "metadata": {},
   "outputs": [
    {
     "name": "stdout",
     "output_type": "stream",
     "text": [
      "+----------+---------------+\n",
      "|IsDomainIP|sum(IsDomainIP)|\n",
      "+----------+---------------+\n",
      "|         1|            638|\n",
      "|         0|              0|\n",
      "+----------+---------------+\n",
      "\n"
     ]
    }
   ],
   "source": [
    "\n",
    "df_pyspark.groupBy(\"IsDomainIP\").sum(\"IsDomainIP\").show()"
   ]
  },
  {
   "cell_type": "code",
   "execution_count": 34,
   "metadata": {},
   "outputs": [],
   "source": [
    "df_pyspark=df_pyspark.drop(\"IsDomainIP\")"
   ]
  },
  {
   "cell_type": "code",
   "execution_count": 35,
   "metadata": {},
   "outputs": [
    {
     "name": "stdout",
     "output_type": "stream",
     "text": [
      "+--------------+-------------------+\n",
      "|HasObfuscation|sum(HasObfuscation)|\n",
      "+--------------+-------------------+\n",
      "|             1|                485|\n",
      "|             0|                  0|\n",
      "+--------------+-------------------+\n",
      "\n"
     ]
    }
   ],
   "source": [
    "df_pyspark.groupBy(\"HasObfuscation\").sum(\"HasObfuscation\").show()"
   ]
  },
  {
   "cell_type": "code",
   "execution_count": 36,
   "metadata": {},
   "outputs": [],
   "source": [
    "df_pyspark=df_pyspark.drop(\"HasObfuscation\")"
   ]
  },
  {
   "cell_type": "code",
   "execution_count": 39,
   "metadata": {},
   "outputs": [
    {
     "name": "stdout",
     "output_type": "stream",
     "text": [
      "+------------------+------+\n",
      "|NoOfObfuscatedChar| count|\n",
      "+------------------+------+\n",
      "|                12|   100|\n",
      "|                 6|    59|\n",
      "|                 3|   228|\n",
      "|                57|     1|\n",
      "|                15|    21|\n",
      "|                 9|    35|\n",
      "|                24|    12|\n",
      "|                21|     5|\n",
      "|                33|     2|\n",
      "|                 0|235310|\n",
      "|                18|     6|\n",
      "|                39|     3|\n",
      "|                51|     1|\n",
      "|               447|     3|\n",
      "|                30|     2|\n",
      "|                36|     2|\n",
      "|                54|     1|\n",
      "|               291|     2|\n",
      "|                45|     1|\n",
      "|                48|     1|\n",
      "+------------------+------+\n",
      "\n"
     ]
    }
   ],
   "source": [
    "df_pyspark.groupBy(\"NoOfObfuscatedChar\").count().show()"
   ]
  },
  {
   "cell_type": "code",
   "execution_count": 40,
   "metadata": {},
   "outputs": [],
   "source": [
    "df_pyspark=df_pyspark.drop(\"NoOfObfuscatedChar\")"
   ]
  },
  {
   "cell_type": "code",
   "execution_count": 42,
   "metadata": {},
   "outputs": [
    {
     "name": "stdout",
     "output_type": "stream",
     "text": [
      "+----------------+------+\n",
      "|ObfuscationRatio| count|\n",
      "+----------------+------+\n",
      "|            0.07|     3|\n",
      "|           0.032|     9|\n",
      "|             0.0|235310|\n",
      "|           0.058|     6|\n",
      "|            0.16|     1|\n",
      "|           0.054|     9|\n",
      "|           0.036|     4|\n",
      "|           0.028|     4|\n",
      "|           0.121|     1|\n",
      "|           0.057|     6|\n",
      "|           0.157|     1|\n",
      "|           0.024|     5|\n",
      "|           0.065|     6|\n",
      "|           0.042|     5|\n",
      "|           0.008|     2|\n",
      "|           0.088|     5|\n",
      "|           0.055|     9|\n",
      "|           0.195|     1|\n",
      "|           0.061|     4|\n",
      "|           0.021|     5|\n",
      "+----------------+------+\n",
      "only showing top 20 rows\n",
      "\n",
      "None\n"
     ]
    }
   ],
   "source": [
    "print(df_pyspark.groupBy(\"ObfuscationRatio\").count().show())"
   ]
  },
  {
   "cell_type": "code",
   "execution_count": 49,
   "metadata": {},
   "outputs": [],
   "source": [
    "df_pyspark=df_pyspark.drop(\"ObfuscationRatio\")\n",
    "df_pyspark=df_pyspark.drop(\"Domain\")\n",
    "df_pyspark=df_pyspark.drop(\"DomainLength\")\n"
   ]
  },
  {
   "cell_type": "code",
   "execution_count": 50,
   "metadata": {},
   "outputs": [
    {
     "name": "stdout",
     "output_type": "stream",
     "text": [
      "['FILENAME', 'URL', 'URLLength', 'TLD', 'URLSimilarityIndex', 'CharContinuationRate', 'TLDLegitimateProb', 'URLCharProb', 'TLDLength', 'NoOfSubDomain', 'NoOfLettersInURL', 'LetterRatioInURL', 'NoOfDegitsInURL', 'DegitRatioInURL', 'NoOfEqualsInURL', 'NoOfQMarkInURL', 'NoOfAmpersandInURL', 'NoOfOtherSpecialCharsInURL', 'SpacialCharRatioInURL', 'IsHTTPS', 'LineOfCode', 'LargestLineLength', 'HasTitle', 'DomainTitleMatchScore', 'URLTitleMatchScore', 'HasFavicon', 'Robots', 'IsResponsive', 'NoOfURLRedirect', 'NoOfSelfRedirect', 'HasDescription', 'NoOfPopup', 'NoOfiFrame', 'HasExternalFormSubmit', 'HasSocialNet', 'HasSubmitButton', 'HasHiddenFields', 'HasPasswordField', 'Bank', 'Pay', 'Crypto', 'HasCopyrightInfo', 'NoOfImage', 'NoOfCSS', 'NoOfJS', 'NoOfSelfRef', 'NoOfEmptyRef', 'NoOfExternalRef', 'label']\n"
     ]
    }
   ],
   "source": [
    "print(df_pyspark.columns)"
   ]
  }
 ],
 "metadata": {
  "kernelspec": {
   "display_name": "Python 3",
   "language": "python",
   "name": "python3"
  },
  "language_info": {
   "codemirror_mode": {
    "name": "ipython",
    "version": 3
   },
   "file_extension": ".py",
   "mimetype": "text/x-python",
   "name": "python",
   "nbconvert_exporter": "python",
   "pygments_lexer": "ipython3",
   "version": "3.10.0"
  }
 },
 "nbformat": 4,
 "nbformat_minor": 2
}
