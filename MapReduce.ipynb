{
 "cells": [
  {
   "cell_type": "code",
   "execution_count": 2,
   "metadata": {},
   "outputs": [],
   "source": [
    "# imports\n",
    "import pandas as pd\n",
    "import numpy as np\n",
    "import seaborn as sns\n",
    "from sklearn.preprocessing import StandardScaler\n",
    "from sklearn.neighbors import KNeighborsClassifier\n",
    "from sklearn.metrics import accuracy_score, confusion_matrix, classification_report\n",
    "import findspark\n",
    "from pyspark.sql import SparkSession\n",
    "import statistics\n",
    "from sklearn.naive_bayes import GaussianNB"
   ]
  },
  {
   "cell_type": "code",
   "execution_count": 3,
   "metadata": {},
   "outputs": [],
   "source": [
    "# read data\n",
    "train = pd.read_csv('train_selected.csv')\n",
    "test = pd.read_csv('test_selected.csv')"
   ]
  },
  {
   "cell_type": "code",
   "execution_count": 4,
   "metadata": {},
   "outputs": [
    {
     "name": "stdout",
     "output_type": "stream",
     "text": [
      "Training Size: (177041, 7) Testing Size: (58329, 7)\n",
      "Training Labels Size: (177041,) Testing Labels Size: (58329,)\n"
     ]
    }
   ],
   "source": [
    "# extract the labels\n",
    "train_labels = train['label']\n",
    "test_labels = test['label']\n",
    "\n",
    "# remove the label column from the data\n",
    "train.drop('label', axis=1, inplace=True)\n",
    "test.drop('label', axis=1, inplace=True)\n",
    "\n",
    "print(\"Training Size:\", train.shape, \"Testing Size:\", test.shape)\n",
    "print(\"Training Labels Size:\", train_labels.shape, \"Testing Labels Size:\", test_labels.shape)"
   ]
  },
  {
   "cell_type": "markdown",
   "metadata": {},
   "source": [
    "### KNN Without MapReduce"
   ]
  },
  {
   "cell_type": "code",
   "execution_count": 5,
   "metadata": {},
   "outputs": [],
   "source": [
    "# KNN implementation without map reduce\n",
    "\n",
    "# Satndardize the data\n",
    "scaler = StandardScaler()\n",
    "train_scaled = scaler.fit_transform(train)\n",
    "test_scaled = scaler.transform(test)\n",
    "\n",
    "# create a KNN model\n",
    "knn = KNeighborsClassifier(n_neighbors=5)\n",
    "\n",
    "# training\n",
    "knn.fit(train_scaled, train_labels)\n",
    "\n",
    "# prediction\n",
    "predicted = knn.predict(test_scaled)"
   ]
  },
  {
   "cell_type": "code",
   "execution_count": 6,
   "metadata": {},
   "outputs": [
    {
     "name": "stdout",
     "output_type": "stream",
     "text": [
      "Accuracy of KNN without MapReduce: 0.999879991085052\n",
      "Classification Report of KNN without MapReduce:\n",
      "               precision    recall  f1-score   support\n",
      "\n",
      "           0       1.00      1.00      1.00     24959\n",
      "           1       1.00      1.00      1.00     33370\n",
      "\n",
      "    accuracy                           1.00     58329\n",
      "   macro avg       1.00      1.00      1.00     58329\n",
      "weighted avg       1.00      1.00      1.00     58329\n",
      "\n"
     ]
    },
    {
     "data": {
      "image/png": "[encoded data removed]",
      "text/plain": [
       "<Figure size 640x480 with 2 Axes>"
      ]
     },
     "metadata": {},
     "output_type": "display_data"
    }
   ],
   "source": [
    "# Evaluation of knn without mapreduce\n",
    "accuracy_without_map_reduce = accuracy_score(test_labels, predicted)\n",
    "conf_matrix = confusion_matrix(test_labels, predicted)\n",
    "class_report = classification_report(test_labels, predicted)\n",
    "\n",
    "print(\"Accuracy of KNN without MapReduce:\", accuracy_without_map_reduce)\n",
    "sns.heatmap(conf_matrix, annot=True)\n",
    "print(\"Classification Report of KNN without MapReduce:\\n\", class_report)"
   ]
  },
  {
   "cell_type": "markdown",
   "metadata": {},
   "source": [
    "### KNN using MapReduce"
   ]
  },
  {
   "cell_type": "code",
   "execution_count": 24,
   "metadata": {},
   "outputs": [],
   "source": [
    "# create a pyspark session\n",
    "findspark.init() # initialize the path to the spark directory\n",
    "spark=SparkSession.builder.master(\"local[*]\").appName(\"KNN\").getOrCreate() # creates or gets (if already created) a spark session\n",
    "sc=spark.sparkContext # creates a spark context"
   ]
  },
  {
   "cell_type": "code",
   "execution_count": 25,
   "metadata": {},
   "outputs": [],
   "source": [
    "# Read the data using pyspark\n",
    "training_data = spark.read.csv('train_selected.csv', header=True, inferSchema=True).rdd\n",
    "testing_data = spark.read.csv('test_selected.csv', header=True, inferSchema=True).rdd\n",
    "\n",
    "# map the training and test data to features and labels => x[0] is the class label and x[1] is the features\n",
    "train_data = training_data.map(lambda x: (x[-1], x[:-1]))\n",
    "test_data = testing_data.map(lambda x: (x[-1], x[:-1]))"
   ]
  },
  {
   "cell_type": "markdown",
   "metadata": {},
   "source": [
    "#### MapReduce\n",
    "➢First, the training data will be divided into multiple splits.\n",
    "\n",
    "➢The map phase will determine the k-nearest neighbors in the different\n",
    "splits of the data.\n",
    "\n",
    "➢As a result of each map, the k nearest neighbors together with their\n",
    "computed distance values will be emitted to the reduce phase.\n",
    "\n",
    "➢Afterwards, the reduce phase will compute the definitive neighbors\n",
    "from the list obtained in the map phase.\n",
    "\n",
    "➢The reduce phase will determine which are the final k nearest neighbors\n",
    "from the list provided by the maps.\n",
    "\n",
    "➢This parallel implementation provides the exact classification rate as the\n",
    "original k-NN model."
   ]
  },
  {
   "cell_type": "code",
   "execution_count": null,
   "metadata": {},
   "outputs": [],
   "source": [
    "def predict_knn(train_data, test_row):\n",
    "    # separate the label and the features\n",
    "    features = test_row[1]\n",
    "    label = test_row[0]\n",
    "\n",
    "    # map the training data with the test row\n",
    "    distances = train_data.map(lambda x: (x[0], np.linalg.norm(np.array(x[1]) - np.array(features))))\n",
    "\n",
    "    # sort the distances\n",
    "    sorted_distances = distances.sortBy(lambda x: x[1])\n",
    "\n",
    "    # get the k nearest neighbors\n",
    "    k_nearest = sorted_distances.take(5)\n",
    "\n",
    "    # get the labels of the k nearest neighbors\n",
    "    k_nearest_labels = [x[0] for x in k_nearest]\n",
    "\n",
    "    # get the most common label\n",
    "    predicted_label = statistics.mode(k_nearest_labels)\n",
    "\n",
    "    print(\"Actual Label:\", label, \"Predicted Label:\", predicted_label)\n",
    "\n",
    "    return (label, predicted_label)\n",
    "\n",
    "\n",
    "predicted_labels = [predict_knn(train_data, test_row) for test_row in test_data.collect()]\n",
    "\n",
    "# separate the actual and predicted labels\n",
    "labels, predicted_labels = zip(*predicted_labels)"
   ]
  },
  {
   "cell_type": "code",
   "execution_count": null,
   "metadata": {},
   "outputs": [],
   "source": [
    "# Evaluation\n",
    "accuracy_without_map_reduce = accuracy_score(test_labels, predicted_labels)\n",
    "conf_matrix = confusion_matrix(test_labels, predicted_labels)\n",
    "class_report = classification_report(test_labels, predicted_labels)\n",
    "\n",
    "print(\"Accuracy of Naive Bayes with MapReduce:\", accuracy_without_map_reduce)\n",
    "sns.heatmap(conf_matrix, annot=True)\n",
    "print(\"Classification Report of KNN without MapReduce:\\n\", class_report)\n",
    "\n",
    "spark.stop()"
   ]
  },
  {
   "cell_type": "markdown",
   "metadata": {},
   "source": [
    "First failed attempt: KNN with PySpark\n",
    "1. Pyspark doesn't work well with clustering techniques\n",
    "2. Using mapreduce consumes much more time than sklearn knn classifier\n",
    "3. The accuracy and f1 score for the built-in knn are 99.8 and 1 respectively\n",
    "4. Approximate calculations:\n",
    "    - While printing a single label is classified in 12.5s.\n",
    "    - The test data is 58329 rows\n",
    "    - So it would take approximately 200 hours to classify the whole dataset\n",
    "    - Built-in KNN approximatly takes 10s to classify the whole test set with an accuracy of 99.9"
   ]
  },
  {
   "cell_type": "markdown",
   "metadata": {},
   "source": [
    "#### Naive Bayes Without MapReduce"
   ]
  },
  {
   "cell_type": "code",
   "execution_count": 7,
   "metadata": {},
   "outputs": [],
   "source": [
    "# create another spark session for naive bayes \n",
    "gnb = GaussianNB()\n",
    "\n",
    "# train the model\n",
    "model = gnb.fit(train, train_labels)\n",
    "\n",
    "# predict the test set\n",
    "predicted_labels = model.predict(test)"
   ]
  },
  {
   "cell_type": "code",
   "execution_count": 8,
   "metadata": {},
   "outputs": [
    {
     "name": "stdout",
     "output_type": "stream",
     "text": [
      "Accuracy of Naive Bayes without MapReduce: 0.9998457028236384\n",
      "Classification Report of KNN without MapReduce:\n",
      "               precision    recall  f1-score   support\n",
      "\n",
      "           0       1.00      1.00      1.00     24959\n",
      "           1       1.00      1.00      1.00     33370\n",
      "\n",
      "    accuracy                           1.00     58329\n",
      "   macro avg       1.00      1.00      1.00     58329\n",
      "weighted avg       1.00      1.00      1.00     58329\n",
      "\n"
     ]
    },
    {
     "data": {
      "image/png": "[encoded data removed]",
      "text/plain": [
       "<Figure size 640x480 with 2 Axes>"
      ]
     },
     "metadata": {},
     "output_type": "display_data"
    }
   ],
   "source": [
    "# Evaluation of Naive Bayes without MapReduce\n",
    "accuracy_without_map_reduce = accuracy_score(test_labels, predicted_labels)\n",
    "conf_matrix = confusion_matrix(test_labels, predicted_labels)\n",
    "class_report = classification_report(test_labels, predicted_labels)\n",
    "\n",
    "print(\"Accuracy of Naive Bayes without MapReduce:\", accuracy_without_map_reduce)\n",
    "sns.heatmap(conf_matrix, annot=True)\n",
    "print(\"Classification Report of KNN without MapReduce:\\n\", class_report)"
   ]
  },
  {
   "cell_type": "markdown",
   "metadata": {},
   "source": [
    "#### Naive Bayes Using MapReduce:\n",
    "\n",
    "Naive Bayes Algorithm:\n",
    "\n",
    "➢The first requirement is to collect the probabilities of all class labels, P(ci).\n",
    "\n",
    "➢The second thing the naïve Bayes classifier needs to know is the\n",
    "conditional probabilities of each attribute aj given each class label ci,\n",
    "namely P (aj |ci). For each attribute and its possible values, computing\n",
    "the conditional probabilities given each class label is required.\n",
    "\n",
    "➢After that, the naïve Bayes classifier can be tested over the testing set.\n",
    "\n",
    "➢For each record in the testing set, the naïve Bayes classifier assigns the\n",
    "classifier label ci"
   ]
  },
  {
   "cell_type": "code",
   "execution_count": 9,
   "metadata": {},
   "outputs": [],
   "source": [
    "# create a new spark session for naive bayes\n",
    "# create a pyspark session\n",
    "findspark.init() # initialize the path to the spark directory\n",
    "spark = SparkSession.builder.master(\"local[*]\").appName(\"NaiveBayes\").getOrCreate() # creates or gets (if already created) a spark session\n",
    "spark_context = spark.sparkContext # creates a spark context"
   ]
  },
  {
   "cell_type": "code",
   "execution_count": 10,
   "metadata": {},
   "outputs": [],
   "source": [
    "# read the training data and create an rdd\n",
    "training_data = spark.read.csv('train_selected.csv', header=True, inferSchema=True).rdd\n",
    "\n",
    "# calculate the number of features in the dataset => number of columns - labels column\n",
    "number_of_features = len(training_data.first()) - 1\n",
    "\n",
    "# separate the training data into the features and the labels\n",
    "# each row in the rdd will be a tuple of (features, class_label) => (x[0], x[1])\n",
    "training_data = training_data.map(lambda x: (x[:-1], int(x[-1])))\n",
    "\n",
    "\n",
    "################ 1. Calculate Class Priors ################\n",
    "\n",
    "# calculate count of samples classified as an certain class for each class\n",
    "class_counts = training_data.map(lambda x: (x[1], 1)).reduceByKey(lambda x, y: x + y)\n",
    "\n",
    "# calculate the total number of samples\n",
    "total_samples = training_data.count()\n",
    "\n",
    "# calculate class priors\n",
    "class_priors = class_counts.map(lambda x: (x[0], x[1] / float(total_samples))) # should be 2 records (0, class_prior_of_0) & (1, class_prio_of_1)\n",
    "\n",
    "# convert thr class priors to a dictionary\n",
    "class_priors_dictionary = class_priors.collectAsMap()\n",
    "\n",
    "# create a dictionary for class counts for easier access\n",
    "class_counts_dictionary = dict(class_counts.collect())\n",
    "\n",
    "################ 2. Calculate Conditional Probabilities for Each Feature/Class ################\n",
    "# The conditional probabilities are calculated as follows:\n",
    "# For each feature we calculate the conditional probability for all its values for each class\n",
    " \n",
    "\n",
    "# calculate the counts of each feature for each class\n",
    "# this step is to calculate the count of each feature classified as a certain class \n",
    "# where i is the index of the feature, x[0][i] is the value of the feature, and x[1] is the class\n",
    "# the output of the flatMap is a list of tuples for each record in the training data\n",
    "feature_counts_per_class = training_data.flatMap(lambda x: [(i, x[0][i], x[1]) for i in range(len(x[0]))])\n",
    "\n",
    "# calculate the count of each feature for each class\n",
    "# the output of the map will be a tuple of the feature index, the feature value, and the class and 1\n",
    "# reduce by key will sum the counts of the features for each class\n",
    "feature_counts_per_class = feature_counts_per_class.map(lambda x: ((x[0], x[1], x[2]), 1)).reduceByKey(lambda x, y: x + y)\n",
    "\n",
    "# output some of the feature counts\n",
    "# print(feature_counts_per_class.take(5))\n",
    "\n",
    "# sort the feature counts by the feature index and then by the class x = ((feature_index, feature_value, class), count)\n",
    "feature_counts_per_class = feature_counts_per_class.sortBy(lambda x: (x[0][0], x[0][2]))\n",
    "\n",
    "# Calculate the conditional probabilities for each feature/class\n",
    "# the consitional probability is the count of the feature classified as a certain class divided by the count of the class\n",
    "# class_counts_dictionary[x[0][2]] is the count of the class {0: count_of_0, 1: count_of_1} => dictionary[class]\n",
    "# here the x = ((feature_index, feature_value, class), count)\n",
    "# the output will be = ((feature_index, feature_value, class), (count ,conditional_probability)) for the feature \n",
    "conditional_prbabilties = feature_counts_per_class.map(lambda x: ((x[0][0], x[0][1], x[0][2]), (x[1], class_counts_dictionary[x[0][2]])))\n",
    "\n",
    "# sort the conditional probabilities by the feature index and then by the class\n",
    "conditional_prbabilties = conditional_prbabilties.sortBy(lambda x: (x[0][0], x[0][2]))\n",
    "\n",
    "# mapValues function maps the values without changing the keys => each record will have the same key and the function is executed on the values only\n",
    "# x[0] is the count of the feature classified as a certain class and x[1] is the count of the class\n",
    "# add 1 to the numerator and the number of features to the denominator to avoid zero probabilities\n",
    "conditional_prbabilties = conditional_prbabilties.mapValues(lambda x: (x[0] + 1) / (x[1] + number_of_features))\n",
    "\n",
    "# sort the conditional probabilities by the feature index and then by the class\n",
    "conditional_prbabilties = conditional_prbabilties.sortBy(lambda x: (x[0][0], x[0][2]))\n",
    "\n",
    "# create a dictionary for the conditional probabilities for easier access\n",
    "conditional_prbabilties_dictionary = conditional_prbabilties.collectAsMap()\n",
    "\n",
    "# convert the dict to have the class as the key\n",
    "conditional_prbabilties_dictionary = conditional_prbabilties.map(lambda x: (x[0][2], ((x[0][0], x[0][1]), x[1]))).groupByKey().mapValues(list).collectAsMap()"
   ]
  },
  {
   "cell_type": "code",
   "execution_count": 11,
   "metadata": {},
   "outputs": [],
   "source": [
    "# create a dictionary for the conditional probabilities for easier access\n",
    "# the format of the final dictionary should be {class: {feature_index: [(feature_value, conditional_probability)]}}\n",
    "# so for each feature index, we have a list of tuples of the feature value and the conditional probability\n",
    "# for example if the feature is bianry (has only 2 values) the list will have 2 tuples\n",
    "final_conditional_probabilities = {}\n",
    "\n",
    "# iterate over the conditional probabilities dictionary\n",
    "# the key is the class and the value is a list of tuples of the feature index, the feature value, and the conditional probability\n",
    "for class_key, values in conditional_prbabilties_dictionary.items():\n",
    "    # create a dictionary for each class in the final dictionary\n",
    "    final_conditional_probabilities[class_key] = {}\n",
    "\n",
    "    # iterate over the list of tuples (feature index, feature value, conditional probability)\n",
    "    for value in values:\n",
    "        # the key of the inner dictionary is the feature index \n",
    "        feature_index = value[0][0]\n",
    "        feature_value = (value[0][1], value[1]) # value[0][1] is the feature value and value[1] is the conditional probability for the feature value of the index for the given class\n",
    "\n",
    "        # add the feature value and the conditional probability to the inner dictionary => check if the feature index exists in the inner dictionary\n",
    "        # final_conditional_probabilities[class_key][feature_index] = [feature_value] if feature_index not in final_conditional_probabilities[class_key] else final_conditional_probabilities[class_key][feature_index].append(feature_value)\n",
    "        if feature_index in final_conditional_probabilities[class_key]:\n",
    "            final_conditional_probabilities[class_key][feature_index].append(feature_value)\n",
    "        else:\n",
    "            final_conditional_probabilities[class_key][feature_index] = [feature_value]\n"
   ]
  },
  {
   "cell_type": "code",
   "execution_count": 12,
   "metadata": {},
   "outputs": [],
   "source": [
    "# create the map function for the prediction phase\n",
    "def predict(test_row):\n",
    "\n",
    "    # seperate the features and the labels\n",
    "    features = test_row[:-1]\n",
    "    label = test_row[-1]\n",
    "\n",
    "    predicted_label = None\n",
    "\n",
    "    max_posterior_probability = float('-inf')\n",
    "\n",
    "    # calculate the posterior probability for each class and assign the maximum probability to the predicted label\n",
    "    for class_label in class_priors_dictionary.keys(): # either 0 or 1\n",
    "        posterior_probability = class_priors_dictionary[class_label] # initialize the posterior probability with the class prior probability\n",
    "        \n",
    "        # iterate over the features \n",
    "        # but we need the index of the feature to access the conditional probability for the feature value\n",
    "        for feature_index, feature_value in enumerate(features):\n",
    "            # get the conditional probability for the feature value and class label\n",
    "            for value, final_conditional_probability in final_conditional_probabilities[class_label][feature_index]:\n",
    "\n",
    "                if value == feature_value:\n",
    "                    posterior_probability *= final_conditional_probability\n",
    "                    break\n",
    "        \n",
    "        # prediction of the label based on the highest posterior probability\n",
    "        if posterior_probability > max_posterior_probability:\n",
    "            max_posterior_probability = posterior_probability\n",
    "            predicted_label = class_label\n",
    "\n",
    "    return (label, predicted_label)\n"
   ]
  },
  {
   "cell_type": "code",
   "execution_count": 13,
   "metadata": {},
   "outputs": [],
   "source": [
    "# Actual prediction of the test set\n",
    "testing_data = spark.read.csv('test_selected.csv', header=True, inferSchema=True).rdd\n",
    "\n",
    "# predict the test set one row at a time\n",
    "predictions = testing_data.map(predict)\n",
    "\n",
    "# convert to list\n",
    "predictions = predictions.collect()\n",
    "\n",
    "# split the predictions into the actual and the predicted labels\n",
    "test_labels, predicted_labels = zip(*predictions)"
   ]
  },
  {
   "cell_type": "code",
   "execution_count": 14,
   "metadata": {},
   "outputs": [
    {
     "name": "stdout",
     "output_type": "stream",
     "text": [
      "Accuracy of Naive Bayes with MapReduce: 0.9200226302525331\n",
      "Classification Report of KNN without MapReduce:\n",
      "               precision    recall  f1-score   support\n",
      "\n",
      "           0       0.98      0.83      0.90     24959\n",
      "           1       0.88      0.99      0.93     33370\n",
      "\n",
      "    accuracy                           0.92     58329\n",
      "   macro avg       0.93      0.91      0.92     58329\n",
      "weighted avg       0.93      0.92      0.92     58329\n",
      "\n"
     ]
    },
    {
     "data": {
      "image/png": "[encoded data removed]",
      "text/plain": [
       "<Figure size 640x480 with 2 Axes>"
      ]
     },
     "metadata": {},
     "output_type": "display_data"
    }
   ],
   "source": [
    "# Evaluation of Naive Bayes with MapReduce\n",
    "accuracy_without_map_reduce = accuracy_score(test_labels, predicted_labels)\n",
    "conf_matrix = confusion_matrix(test_labels, predicted_labels)\n",
    "class_report = classification_report(test_labels, predicted_labels)\n",
    "\n",
    "print(\"Accuracy of Naive Bayes with MapReduce:\", accuracy_without_map_reduce)\n",
    "sns.heatmap(conf_matrix, annot=True)\n",
    "print(\"Classification Report of KNN without MapReduce:\\n\", class_report)\n",
    "\n",
    "spark.stop()"
   ]
  }
 ],
 "metadata": {
  "kernelspec": {
   "display_name": "Python 3",
   "language": "python",
   "name": "python3"
  },
  "language_info": {
   "codemirror_mode": {
    "name": "ipython",
    "version": 3
   },
   "file_extension": ".py",
   "mimetype": "text/x-python",
   "name": "python",
   "nbconvert_exporter": "python",
   "pygments_lexer": "ipython3",
   "version": "3.11.5"
  }
 },
 "nbformat": 4,
 "nbformat_minor": 2
}
