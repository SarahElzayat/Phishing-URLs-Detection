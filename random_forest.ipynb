{
 "cells": [
  {
   "cell_type": "code",
   "execution_count": 3,
   "metadata": {},
   "outputs": [],
   "source": [
    "from pyspark import SparkContext, SparkConf\n",
    "from pyspark.sql import SparkSession\n",
    "from pyspark.ml.feature import StringIndexer, VectorAssembler\n",
    "from pyspark.ml.classification import RandomForestClassifier\n",
    "from pyspark.ml.evaluation import MulticlassClassificationEvaluator"
   ]
  },
  {
   "cell_type": "code",
   "execution_count": 1,
   "metadata": {},
   "outputs": [],
   "source": [
    "# read training and test data from csv files\n",
    "TRAINING_PATH = \"./train.csv\"\n",
    "TESTING_PATH = \"./test.csv\""
   ]
  },
  {
   "cell_type": "code",
   "execution_count": 4,
   "metadata": {},
   "outputs": [],
   "source": [
    "\n",
    "spark = SparkSession.builder.appName(\"RandomForestExample\").getOrCreate()\n",
    "sc = spark.sparkContext"
   ]
  },
  {
   "cell_type": "code",
   "execution_count": 27,
   "metadata": {},
   "outputs": [],
   "source": [
    "training_rdd = spark.read.csv(TRAINING_PATH, header=True, inferSchema=True)\n",
    "testing_rdd = spark.read.csv(TESTING_PATH, header=True, inferSchema=True)"
   ]
  },
  {
   "cell_type": "code",
   "execution_count": null,
   "metadata": {},
   "outputs": [],
   "source": []
  },
  {
   "cell_type": "code",
   "execution_count": 10,
   "metadata": {},
   "outputs": [
    {
     "name": "stdout",
     "output_type": "stream",
     "text": [
      "Training data length:  177041\n",
      "Testing data length:  58329\n",
      "+-----+------+\n",
      "|label| count|\n",
      "+-----+------+\n",
      "|    0| 75561|\n",
      "|    1|101480|\n",
      "+-----+------+\n",
      "\n",
      "+-----+-----+\n",
      "|label|count|\n",
      "+-----+-----+\n",
      "|    0|24959|\n",
      "|    1|33370|\n",
      "+-----+-----+\n",
      "\n"
     ]
    }
   ],
   "source": [
    "# training_rdd.show(10)\n",
    "# testing_rdd.show(10)\n",
    "\n",
    "# print dataset length\n",
    "print(\"Training data length: \", training_rdd.count())\n",
    "print(\"Testing data length: \", testing_rdd.count())\n",
    "\n",
    "# print the count of label values in training data\n",
    "training_rdd.groupBy(\"label\").count().show()\n",
    "testing_rdd.groupBy(\"label\").count().show()\n"
   ]
  },
  {
   "cell_type": "code",
   "execution_count": 26,
   "metadata": {},
   "outputs": [
    {
     "name": "stdout",
     "output_type": "stream",
     "text": [
      "root\n",
      " |-- URLLength: integer (nullable = true)\n",
      " |-- URLSimilarityIndex: double (nullable = true)\n",
      " |-- CharContinuationRate: double (nullable = true)\n",
      " |-- TLDLegitimateProb: double (nullable = true)\n",
      " |-- URLCharProb: double (nullable = true)\n",
      " |-- NoOfSubDomain: integer (nullable = true)\n",
      " |-- LetterRatioInURL: double (nullable = true)\n",
      " |-- DegitRatioInURL: double (nullable = true)\n",
      " |-- SpacialCharRatioInURL: double (nullable = true)\n",
      " |-- LineOfCode: integer (nullable = true)\n",
      " |-- LargestLineLength: integer (nullable = true)\n",
      " |-- URLTitleMatchScore: double (nullable = true)\n",
      " |-- NoOfURLRedirect: integer (nullable = true)\n",
      " |-- NoOfSelfRedirect: integer (nullable = true)\n",
      " |-- NoOfPopup: integer (nullable = true)\n",
      " |-- NoOfiFrame: integer (nullable = true)\n",
      " |-- NoOfImage: integer (nullable = true)\n",
      " |-- NoOfCSS: integer (nullable = true)\n",
      " |-- NoOfJS: integer (nullable = true)\n",
      " |-- NoOfSelfRef: integer (nullable = true)\n",
      " |-- NoOfEmptyRef: integer (nullable = true)\n",
      " |-- NoOfExternalRef: integer (nullable = true)\n",
      " |-- IsHTTPS: integer (nullable = true)\n",
      " |-- HasTitle: integer (nullable = true)\n",
      " |-- HasFavicon: integer (nullable = true)\n",
      " |-- Robots: integer (nullable = true)\n",
      " |-- IsResponsive: integer (nullable = true)\n",
      " |-- HasDescription: integer (nullable = true)\n",
      " |-- HasExternalFormSubmit: integer (nullable = true)\n",
      " |-- HasSocialNet: integer (nullable = true)\n",
      " |-- HasSubmitButton: integer (nullable = true)\n",
      " |-- HasHiddenFields: integer (nullable = true)\n",
      " |-- HasPasswordField: integer (nullable = true)\n",
      " |-- Bank: integer (nullable = true)\n",
      " |-- Pay: integer (nullable = true)\n",
      " |-- Crypto: integer (nullable = true)\n",
      " |-- HasCopyrightInfo: integer (nullable = true)\n",
      " |-- label: integer (nullable = true)\n",
      "\n"
     ]
    }
   ],
   "source": [
    "# print column data types\n",
    "training_rdd.printSchema()"
   ]
  },
  {
   "cell_type": "code",
   "execution_count": null,
   "metadata": {},
   "outputs": [],
   "source": []
  },
  {
   "cell_type": "code",
   "execution_count": 16,
   "metadata": {},
   "outputs": [
    {
     "name": "stdout",
     "output_type": "stream",
     "text": [
      "root\n",
      " |-- URLLength: integer (nullable = true)\n",
      " |-- URLSimilarityIndex: integer (nullable = true)\n",
      " |-- CharContinuationRate: integer (nullable = true)\n",
      " |-- TLDLegitimateProb: integer (nullable = true)\n",
      " |-- URLCharProb: integer (nullable = true)\n",
      " |-- NoOfSubDomain: integer (nullable = true)\n",
      " |-- LetterRatioInURL: integer (nullable = true)\n",
      " |-- DegitRatioInURL: integer (nullable = true)\n",
      " |-- SpacialCharRatioInURL: integer (nullable = true)\n",
      " |-- LineOfCode: integer (nullable = true)\n",
      " |-- LargestLineLength: integer (nullable = true)\n",
      " |-- URLTitleMatchScore: integer (nullable = true)\n",
      " |-- NoOfURLRedirect: integer (nullable = true)\n",
      " |-- NoOfSelfRedirect: integer (nullable = true)\n",
      " |-- NoOfPopup: integer (nullable = true)\n",
      " |-- NoOfiFrame: integer (nullable = true)\n",
      " |-- NoOfImage: integer (nullable = true)\n",
      " |-- NoOfCSS: integer (nullable = true)\n",
      " |-- NoOfJS: integer (nullable = true)\n",
      " |-- NoOfSelfRef: integer (nullable = true)\n",
      " |-- NoOfEmptyRef: integer (nullable = true)\n",
      " |-- NoOfExternalRef: integer (nullable = true)\n",
      " |-- IsHTTPS: integer (nullable = true)\n",
      " |-- HasTitle: integer (nullable = true)\n",
      " |-- HasFavicon: integer (nullable = true)\n",
      " |-- Robots: integer (nullable = true)\n",
      " |-- IsResponsive: integer (nullable = true)\n",
      " |-- HasDescription: integer (nullable = true)\n",
      " |-- HasExternalFormSubmit: integer (nullable = true)\n",
      " |-- HasSocialNet: integer (nullable = true)\n",
      " |-- HasSubmitButton: integer (nullable = true)\n",
      " |-- HasHiddenFields: integer (nullable = true)\n",
      " |-- HasPasswordField: integer (nullable = true)\n",
      " |-- Bank: integer (nullable = true)\n",
      " |-- Pay: integer (nullable = true)\n",
      " |-- Crypto: integer (nullable = true)\n",
      " |-- HasCopyrightInfo: integer (nullable = true)\n",
      " |-- label: integer (nullable = true)\n",
      "\n",
      "root\n",
      " |-- URLLength: integer (nullable = true)\n",
      " |-- URLSimilarityIndex: integer (nullable = true)\n",
      " |-- CharContinuationRate: integer (nullable = true)\n",
      " |-- TLDLegitimateProb: integer (nullable = true)\n",
      " |-- URLCharProb: integer (nullable = true)\n",
      " |-- NoOfSubDomain: integer (nullable = true)\n",
      " |-- LetterRatioInURL: integer (nullable = true)\n",
      " |-- DegitRatioInURL: integer (nullable = true)\n",
      " |-- SpacialCharRatioInURL: integer (nullable = true)\n",
      " |-- LineOfCode: integer (nullable = true)\n",
      " |-- LargestLineLength: integer (nullable = true)\n",
      " |-- URLTitleMatchScore: integer (nullable = true)\n",
      " |-- NoOfURLRedirect: integer (nullable = true)\n",
      " |-- NoOfSelfRedirect: integer (nullable = true)\n",
      " |-- NoOfPopup: integer (nullable = true)\n",
      " |-- NoOfiFrame: integer (nullable = true)\n",
      " |-- NoOfImage: integer (nullable = true)\n",
      " |-- NoOfCSS: integer (nullable = true)\n",
      " |-- NoOfJS: integer (nullable = true)\n",
      " |-- NoOfSelfRef: integer (nullable = true)\n",
      " |-- NoOfEmptyRef: integer (nullable = true)\n",
      " |-- NoOfExternalRef: integer (nullable = true)\n",
      " |-- IsHTTPS: integer (nullable = true)\n",
      " |-- HasTitle: integer (nullable = true)\n",
      " |-- HasFavicon: integer (nullable = true)\n",
      " |-- Robots: integer (nullable = true)\n",
      " |-- IsResponsive: integer (nullable = true)\n",
      " |-- HasDescription: integer (nullable = true)\n",
      " |-- HasExternalFormSubmit: integer (nullable = true)\n",
      " |-- HasSocialNet: integer (nullable = true)\n",
      " |-- HasSubmitButton: integer (nullable = true)\n",
      " |-- HasHiddenFields: integer (nullable = true)\n",
      " |-- HasPasswordField: integer (nullable = true)\n",
      " |-- Bank: integer (nullable = true)\n",
      " |-- Pay: integer (nullable = true)\n",
      " |-- Crypto: integer (nullable = true)\n",
      " |-- HasCopyrightInfo: integer (nullable = true)\n",
      " |-- label: integer (nullable = true)\n",
      "\n"
     ]
    }
   ],
   "source": [
    "# #convert all columns to integers\n",
    "# for column in training_rdd.columns:\n",
    "#     training_rdd = training_rdd.withColumn(column, training_rdd[column].cast(\"int\"))\n",
    "    \n",
    "# for column in testing_rdd.columns:\n",
    "#     testing_rdd = testing_rdd.withColumn(column, testing_rdd[column].cast(\"int\"))\n",
    "    \n",
    "# training_rdd.printSchema()\n",
    "# testing_rdd.printSchema()\n"
   ]
  },
  {
   "cell_type": "code",
   "execution_count": 17,
   "metadata": {},
   "outputs": [
    {
     "name": "stdout",
     "output_type": "stream",
     "text": [
      "+---------+------------------+--------------------+-----------------+-----------+-------------+----------------+---------------+---------------------+----------+-----------------+------------------+---------------+----------------+---------+----------+---------+-------+------+-----------+------------+---------------+-------+--------+----------+------+------------+--------------+---------------------+------------+---------------+---------------+----------------+----+---+------+----------------+-----+\n",
      "|URLLength|URLSimilarityIndex|CharContinuationRate|TLDLegitimateProb|URLCharProb|NoOfSubDomain|LetterRatioInURL|DegitRatioInURL|SpacialCharRatioInURL|LineOfCode|LargestLineLength|URLTitleMatchScore|NoOfURLRedirect|NoOfSelfRedirect|NoOfPopup|NoOfiFrame|NoOfImage|NoOfCSS|NoOfJS|NoOfSelfRef|NoOfEmptyRef|NoOfExternalRef|IsHTTPS|HasTitle|HasFavicon|Robots|IsResponsive|HasDescription|HasExternalFormSubmit|HasSocialNet|HasSubmitButton|HasHiddenFields|HasPasswordField|Bank|Pay|Crypto|HasCopyrightInfo|label|\n",
      "+---------+------------------+--------------------+-----------------+-----------+-------------+----------------+---------------+---------------------+----------+-----------------+------------------+---------------+----------------+---------+----------+---------+-------+------+-----------+------------+---------------+-------+--------+----------+------+------------+--------------+---------------------+------------+---------------+---------------+----------------+----+---+------+----------------+-----+\n",
      "|       19|                63|                   1|                0|          0|            0|               0|              0|                    0|         4|               58|                14|              0|               0|        0|         0|        0|      0|     0|          1|           0|              1|      0|       0|         0|     0|           0|             0|                    0|           0|              0|              0|               0|   0|  0|     0|               0|    0|\n",
      "|       20|                66|                   1|                0|          0|            0|               0|              0|                    0|         4|               59|                12|              0|               0|        0|         0|        0|      0|     0|          1|           0|              1|      0|       0|         0|     0|           0|             0|                    0|           0|              0|              0|               0|   0|  0|     0|               0|    0|\n",
      "|       88|                12|                   0|                0|          0|            5|               0|              0|                    0|         2|               97|                 1|              0|               0|        0|         0|        0|      0|     0|          0|           0|              0|      0|       0|         0|     0|           0|             0|                    0|           0|              0|              0|               0|   0|  0|     0|               0|    0|\n",
      "|       22|                44|                   0|                0|          0|            2|               0|              0|                    0|        17|               70|                10|              0|               0|        0|         0|        0|      0|     0|          1|           0|              0|      0|       0|         0|     0|           0|             0|                    0|           0|              0|              0|               0|   0|  0|     0|               0|    0|\n",
      "|       47|                22|                   0|                0|          0|            1|               0|              0|                    0|        11|               98|                 0|              0|               0|        0|         0|        0|      0|     0|          1|           0|              1|      0|       1|         0|     0|           0|             0|                    0|           0|              0|              0|               0|   0|  0|     0|               0|    0|\n",
      "|      377|                 2|                   0|                0|          0|            2|               0|              0|                    0|         2|             1638|                 0|              0|               0|        0|         0|        1|      0|     0|          0|           0|              0|      1|       1|         0|     0|           1|             0|                    0|           0|              0|              0|               0|   0|  0|     0|               0|    0|\n",
      "|      477|                 2|                   0|                0|          0|            2|               0|              0|                    0|       125|            53389|                 0|              1|               0|        0|         2|        1|      0|     0|          2|           0|              5|      1|       1|         0|     0|           1|             1|                    0|           0|              1|              1|               0|   0|  0|     0|               1|    0|\n",
      "|      427|                 2|                   0|                0|          0|            2|               0|              0|                    0|       125|            53542|                 0|              1|               0|        0|         2|        1|      0|     0|          2|           0|              5|      1|       1|         0|     0|           1|             1|                    0|           0|              1|              1|               0|   0|  0|     0|               1|    0|\n",
      "|       30|                34|                   0|             NULL|          0|            1|               0|              0|                    0|         9|               76|                 0|              0|               0|        0|         0|        0|      0|     0|          1|           0|              0|      0|       1|         0|     0|           0|             0|                    0|           0|              0|              0|               0|   0|  0|     0|               0|    0|\n",
      "|       21|                38|                   0|                0|          0|            2|               0|              0|                    0|         2|              628|                10|              0|               0|        0|         0|        0|      1|     1|          0|           0|              1|      0|       0|         1|     0|           1|             0|                    0|           0|              0|              0|               0|   0|  0|     0|               0|    0|\n",
      "+---------+------------------+--------------------+-----------------+-----------+-------------+----------------+---------------+---------------------+----------+-----------------+------------------+---------------+----------------+---------+----------+---------+-------+------+-----------+------------+---------------+-------+--------+----------+------+------------+--------------+---------------------+------------+---------------+---------------+----------------+----+---+------+----------------+-----+\n",
      "only showing top 10 rows\n",
      "\n"
     ]
    }
   ],
   "source": [
    "training_rdd.show(10)"
   ]
  },
  {
   "cell_type": "code",
   "execution_count": 14,
   "metadata": {},
   "outputs": [
    {
     "ename": "IllegalArgumentException",
     "evalue": "Data type string of column URLLength is not supported.\nData type string of column URLSimilarityIndex is not supported.\nData type string of column CharContinuationRate is not supported.\nData type string of column TLDLegitimateProb is not supported.\nData type string of column URLCharProb is not supported.\nData type string of column NoOfSubDomain is not supported.\nData type string of column LetterRatioInURL is not supported.\nData type string of column DegitRatioInURL is not supported.\nData type string of column SpacialCharRatioInURL is not supported.\nData type string of column LineOfCode is not supported.\nData type string of column LargestLineLength is not supported.\nData type string of column URLTitleMatchScore is not supported.\nData type string of column NoOfURLRedirect is not supported.\nData type string of column NoOfSelfRedirect is not supported.\nData type string of column NoOfPopup is not supported.\nData type string of column NoOfiFrame is not supported.\nData type string of column NoOfImage is not supported.\nData type string of column NoOfCSS is not supported.\nData type string of column NoOfJS is not supported.\nData type string of column NoOfSelfRef is not supported.\nData type string of column NoOfEmptyRef is not supported.\nData type string of column NoOfExternalRef is not supported.\nData type string of column IsHTTPS is not supported.\nData type string of column HasTitle is not supported.\nData type string of column HasFavicon is not supported.\nData type string of column Robots is not supported.\nData type string of column IsResponsive is not supported.\nData type string of column HasDescription is not supported.\nData type string of column HasExternalFormSubmit is not supported.\nData type string of column HasSocialNet is not supported.\nData type string of column HasSubmitButton is not supported.\nData type string of column HasHiddenFields is not supported.\nData type string of column HasPasswordField is not supported.\nData type string of column Bank is not supported.\nData type string of column Pay is not supported.\nData type string of column Crypto is not supported.\nData type string of column HasCopyrightInfo is not supported.",
     "output_type": "error",
     "traceback": [
      "\u001b[1;31m---------------------------------------------------------------------------\u001b[0m",
      "\u001b[1;31mIllegalArgumentException\u001b[0m                  Traceback (most recent call last)",
      "Cell \u001b[1;32mIn [14], line 6\u001b[0m\n\u001b[0;32m      3\u001b[0m assembler \u001b[38;5;241m=\u001b[39m VectorAssembler(inputCols\u001b[38;5;241m=\u001b[39mfeature_columns, outputCol\u001b[38;5;241m=\u001b[39m\u001b[38;5;124m\"\u001b[39m\u001b[38;5;124mfeatures\u001b[39m\u001b[38;5;124m\"\u001b[39m)\n\u001b[0;32m      5\u001b[0m \u001b[38;5;66;03m# Assemble features for both train and test datasets\u001b[39;00m\n\u001b[1;32m----> 6\u001b[0m train_df \u001b[38;5;241m=\u001b[39m \u001b[43massembler\u001b[49m\u001b[38;5;241;43m.\u001b[39;49m\u001b[43mtransform\u001b[49m\u001b[43m(\u001b[49m\u001b[43mtraining_rdd\u001b[49m\u001b[43m)\u001b[49m\u001b[38;5;241m.\u001b[39mselect(\u001b[38;5;124m\"\u001b[39m\u001b[38;5;124mfeatures\u001b[39m\u001b[38;5;124m\"\u001b[39m, \u001b[38;5;124m\"\u001b[39m\u001b[38;5;124mlabel\u001b[39m\u001b[38;5;124m\"\u001b[39m)\n\u001b[0;32m      7\u001b[0m test_df \u001b[38;5;241m=\u001b[39m assembler\u001b[38;5;241m.\u001b[39mtransform(testing_rdd)\u001b[38;5;241m.\u001b[39mselect(\u001b[38;5;124m\"\u001b[39m\u001b[38;5;124mfeatures\u001b[39m\u001b[38;5;124m\"\u001b[39m, \u001b[38;5;124m\"\u001b[39m\u001b[38;5;124mlabel\u001b[39m\u001b[38;5;124m\"\u001b[39m)\n\u001b[0;32m     10\u001b[0m \u001b[38;5;66;03m# Create and train the Random Forest classifier\u001b[39;00m\n",
      "File \u001b[1;32mc:\\Users\\77\\anaconda3\\lib\\site-packages\\pyspark\\ml\\base.py:262\u001b[0m, in \u001b[0;36mTransformer.transform\u001b[1;34m(self, dataset, params)\u001b[0m\n\u001b[0;32m    260\u001b[0m         \u001b[38;5;28;01mreturn\u001b[39;00m \u001b[38;5;28mself\u001b[39m\u001b[38;5;241m.\u001b[39mcopy(params)\u001b[38;5;241m.\u001b[39m_transform(dataset)\n\u001b[0;32m    261\u001b[0m     \u001b[38;5;28;01melse\u001b[39;00m:\n\u001b[1;32m--> 262\u001b[0m         \u001b[38;5;28;01mreturn\u001b[39;00m \u001b[38;5;28;43mself\u001b[39;49m\u001b[38;5;241;43m.\u001b[39;49m\u001b[43m_transform\u001b[49m\u001b[43m(\u001b[49m\u001b[43mdataset\u001b[49m\u001b[43m)\u001b[49m\n\u001b[0;32m    263\u001b[0m \u001b[38;5;28;01melse\u001b[39;00m:\n\u001b[0;32m    264\u001b[0m     \u001b[38;5;28;01mraise\u001b[39;00m \u001b[38;5;167;01mTypeError\u001b[39;00m(\u001b[38;5;124m\"\u001b[39m\u001b[38;5;124mParams must be a param map but got \u001b[39m\u001b[38;5;132;01m%s\u001b[39;00m\u001b[38;5;124m.\u001b[39m\u001b[38;5;124m\"\u001b[39m \u001b[38;5;241m%\u001b[39m \u001b[38;5;28mtype\u001b[39m(params))\n",
      "File \u001b[1;32mc:\\Users\\77\\anaconda3\\lib\\site-packages\\pyspark\\ml\\wrapper.py:398\u001b[0m, in \u001b[0;36mJavaTransformer._transform\u001b[1;34m(self, dataset)\u001b[0m\n\u001b[0;32m    395\u001b[0m \u001b[38;5;28;01massert\u001b[39;00m \u001b[38;5;28mself\u001b[39m\u001b[38;5;241m.\u001b[39m_java_obj \u001b[38;5;129;01mis\u001b[39;00m \u001b[38;5;129;01mnot\u001b[39;00m \u001b[38;5;28;01mNone\u001b[39;00m\n\u001b[0;32m    397\u001b[0m \u001b[38;5;28mself\u001b[39m\u001b[38;5;241m.\u001b[39m_transfer_params_to_java()\n\u001b[1;32m--> 398\u001b[0m \u001b[38;5;28;01mreturn\u001b[39;00m DataFrame(\u001b[38;5;28;43mself\u001b[39;49m\u001b[38;5;241;43m.\u001b[39;49m\u001b[43m_java_obj\u001b[49m\u001b[38;5;241;43m.\u001b[39;49m\u001b[43mtransform\u001b[49m\u001b[43m(\u001b[49m\u001b[43mdataset\u001b[49m\u001b[38;5;241;43m.\u001b[39;49m\u001b[43m_jdf\u001b[49m\u001b[43m)\u001b[49m, dataset\u001b[38;5;241m.\u001b[39msparkSession)\n",
      "File \u001b[1;32mc:\\Users\\77\\anaconda3\\lib\\site-packages\\py4j\\java_gateway.py:1322\u001b[0m, in \u001b[0;36mJavaMember.__call__\u001b[1;34m(self, *args)\u001b[0m\n\u001b[0;32m   1316\u001b[0m command \u001b[38;5;241m=\u001b[39m proto\u001b[38;5;241m.\u001b[39mCALL_COMMAND_NAME \u001b[38;5;241m+\u001b[39m\\\n\u001b[0;32m   1317\u001b[0m     \u001b[38;5;28mself\u001b[39m\u001b[38;5;241m.\u001b[39mcommand_header \u001b[38;5;241m+\u001b[39m\\\n\u001b[0;32m   1318\u001b[0m     args_command \u001b[38;5;241m+\u001b[39m\\\n\u001b[0;32m   1319\u001b[0m     proto\u001b[38;5;241m.\u001b[39mEND_COMMAND_PART\n\u001b[0;32m   1321\u001b[0m answer \u001b[38;5;241m=\u001b[39m \u001b[38;5;28mself\u001b[39m\u001b[38;5;241m.\u001b[39mgateway_client\u001b[38;5;241m.\u001b[39msend_command(command)\n\u001b[1;32m-> 1322\u001b[0m return_value \u001b[38;5;241m=\u001b[39m \u001b[43mget_return_value\u001b[49m\u001b[43m(\u001b[49m\n\u001b[0;32m   1323\u001b[0m \u001b[43m    \u001b[49m\u001b[43manswer\u001b[49m\u001b[43m,\u001b[49m\u001b[43m \u001b[49m\u001b[38;5;28;43mself\u001b[39;49m\u001b[38;5;241;43m.\u001b[39;49m\u001b[43mgateway_client\u001b[49m\u001b[43m,\u001b[49m\u001b[43m \u001b[49m\u001b[38;5;28;43mself\u001b[39;49m\u001b[38;5;241;43m.\u001b[39;49m\u001b[43mtarget_id\u001b[49m\u001b[43m,\u001b[49m\u001b[43m \u001b[49m\u001b[38;5;28;43mself\u001b[39;49m\u001b[38;5;241;43m.\u001b[39;49m\u001b[43mname\u001b[49m\u001b[43m)\u001b[49m\n\u001b[0;32m   1325\u001b[0m \u001b[38;5;28;01mfor\u001b[39;00m temp_arg \u001b[38;5;129;01min\u001b[39;00m temp_args:\n\u001b[0;32m   1326\u001b[0m     \u001b[38;5;28;01mif\u001b[39;00m \u001b[38;5;28mhasattr\u001b[39m(temp_arg, \u001b[38;5;124m\"\u001b[39m\u001b[38;5;124m_detach\u001b[39m\u001b[38;5;124m\"\u001b[39m):\n",
      "File \u001b[1;32mc:\\Users\\77\\anaconda3\\lib\\site-packages\\pyspark\\errors\\exceptions\\captured.py:185\u001b[0m, in \u001b[0;36mcapture_sql_exception.<locals>.deco\u001b[1;34m(*a, **kw)\u001b[0m\n\u001b[0;32m    181\u001b[0m converted \u001b[38;5;241m=\u001b[39m convert_exception(e\u001b[38;5;241m.\u001b[39mjava_exception)\n\u001b[0;32m    182\u001b[0m \u001b[38;5;28;01mif\u001b[39;00m \u001b[38;5;129;01mnot\u001b[39;00m \u001b[38;5;28misinstance\u001b[39m(converted, UnknownException):\n\u001b[0;32m    183\u001b[0m     \u001b[38;5;66;03m# Hide where the exception came from that shows a non-Pythonic\u001b[39;00m\n\u001b[0;32m    184\u001b[0m     \u001b[38;5;66;03m# JVM exception message.\u001b[39;00m\n\u001b[1;32m--> 185\u001b[0m     \u001b[38;5;28;01mraise\u001b[39;00m converted \u001b[38;5;28;01mfrom\u001b[39;00m \u001b[38;5;28mNone\u001b[39m\n\u001b[0;32m    186\u001b[0m \u001b[38;5;28;01melse\u001b[39;00m:\n\u001b[0;32m    187\u001b[0m     \u001b[38;5;28;01mraise\u001b[39;00m\n",
      "\u001b[1;31mIllegalArgumentException\u001b[0m: Data type string of column URLLength is not supported.\nData type string of column URLSimilarityIndex is not supported.\nData type string of column CharContinuationRate is not supported.\nData type string of column TLDLegitimateProb is not supported.\nData type string of column URLCharProb is not supported.\nData type string of column NoOfSubDomain is not supported.\nData type string of column LetterRatioInURL is not supported.\nData type string of column DegitRatioInURL is not supported.\nData type string of column SpacialCharRatioInURL is not supported.\nData type string of column LineOfCode is not supported.\nData type string of column LargestLineLength is not supported.\nData type string of column URLTitleMatchScore is not supported.\nData type string of column NoOfURLRedirect is not supported.\nData type string of column NoOfSelfRedirect is not supported.\nData type string of column NoOfPopup is not supported.\nData type string of column NoOfiFrame is not supported.\nData type string of column NoOfImage is not supported.\nData type string of column NoOfCSS is not supported.\nData type string of column NoOfJS is not supported.\nData type string of column NoOfSelfRef is not supported.\nData type string of column NoOfEmptyRef is not supported.\nData type string of column NoOfExternalRef is not supported.\nData type string of column IsHTTPS is not supported.\nData type string of column HasTitle is not supported.\nData type string of column HasFavicon is not supported.\nData type string of column Robots is not supported.\nData type string of column IsResponsive is not supported.\nData type string of column HasDescription is not supported.\nData type string of column HasExternalFormSubmit is not supported.\nData type string of column HasSocialNet is not supported.\nData type string of column HasSubmitButton is not supported.\nData type string of column HasHiddenFields is not supported.\nData type string of column HasPasswordField is not supported.\nData type string of column Bank is not supported.\nData type string of column Pay is not supported.\nData type string of column Crypto is not supported.\nData type string of column HasCopyrightInfo is not supported."
     ]
    }
   ],
   "source": [
    "# Specify the feature columns, excluding the label column\n",
    "feature_columns = [col for col in training_rdd.columns if col != 'label']\n",
    "assembler = VectorAssembler(inputCols=feature_columns, outputCol=\"features\")\n",
    "\n",
    "# Assemble features for both train and test datasets\n",
    "train_df = assembler.transform(training_rdd).select(\"features\", \"label\")\n",
    "test_df = assembler.transform(testing_rdd).select(\"features\", \"label\")\n",
    "\n",
    "\n",
    "# Create and train the Random Forest classifier\n",
    "rf = RandomForestClassifier(labelCol=\"label\", featuresCol=\"features\", numTrees=10)\n",
    "rf_model = rf.fit(train_df)\n",
    "\n",
    "# Make predictions on the test set\n",
    "predictions = rf_model.transform(test_df)\n",
    "\n",
    "# Evaluate the model\n",
    "evaluator = MulticlassClassificationEvaluator(labelCol=\"label\", predictionCol=\"prediction\", metricName=\"accuracy\")\n",
    "accuracy = evaluator.evaluate(predictions)\n",
    "print(f\"Test Accuracy = {accuracy:.4f}\")\n",
    "\n"
   ]
  }
 ],
 "metadata": {
  "kernelspec": {
   "display_name": "base",
   "language": "python",
   "name": "python3"
  },
  "language_info": {
   "codemirror_mode": {
    "name": "ipython",
    "version": 3
   },
   "file_extension": ".py",
   "mimetype": "text/x-python",
   "name": "python",
   "nbconvert_exporter": "python",
   "pygments_lexer": "ipython3",
   "version": "3.9.18"
  }
 },
 "nbformat": 4,
 "nbformat_minor": 2
}
