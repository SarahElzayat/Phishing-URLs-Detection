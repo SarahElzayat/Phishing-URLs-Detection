{
 "cells": [
  {
   "cell_type": "code",
   "execution_count": 1,
   "metadata": {},
   "outputs": [],
   "source": [
    "import matplotlib.pyplot as plt\n",
    "import seaborn as sns\n",
    "from sklearn.metrics import confusion_matrix\n",
    "\n",
    "import numpy as np\n",
    "import pandas as pd"
   ]
  },
  {
   "cell_type": "code",
   "execution_count": null,
   "metadata": {},
   "outputs": [],
   "source": [
    "from sklearn.metrics import precision_recall_fscore_support\n",
    "\n",
    "# Define a mapping between abbreviated names and full names\n",
    "algorithm_names = {\n",
    "    \"KNN\": \"K-Nearest Neighbors\",\n",
    "    \"DT\": \"Decision Tree\",\n",
    "    \"SVM\": \"Support Vector Machine\",\n",
    "    \"NB\": \"Naive Bayes\",\n",
    "    \"Random Forest\": \"Random Forest\"\n",
    "}\n",
    "\n",
    "# Calculate precision, recall, and F1-score for each algorithm\n",
    "metrics = {}\n",
    "algorithms = [\"KNN\", \"DT\", \"SVM\", \"NB\", \"Random Forest\"]\n",
    "\n",
    "for alg_name in algorithms:\n",
    "    if alg_name == \"Random Forest\":\n",
    "        precision, recall, f1_score, _ = precision_recall_fscore_support(y_test, y_pred, average='binary')\n",
    "    else:\n",
    "        y_pred_alg = locals()[f\"y_pred_{alg_name.lower()}\"]\n",
    "        precision, recall, f1_score, _ = precision_recall_fscore_support(y_test, y_pred_alg, average='binary')\n",
    "    metrics[alg_name] = {'Precision': precision, 'Recall': recall, 'F1-score': f1_score}\n",
    "\n",
    "# Define pastel colors\n",
    "pastel_colors = ['#66c2a5', '#fc8d62', '#8da0cb']\n",
    "\n",
    "# Plotting the comparison\n",
    "plt.figure(figsize=(10, 6))\n",
    "\n",
    "for i, metric in enumerate(['Precision', 'Recall', 'F1-score']):\n",
    "    plt.plot([algorithm_names[alg] for alg in algorithms], [metrics[alg][metric] for alg in algorithms], marker='o', label=metric, color=pastel_colors[i % len(pastel_colors)])\n",
    "\n",
    "plt.title('Performance Comparison of Algorithms')\n",
    "plt.xlabel('Algorithms')\n",
    "plt.ylabel('Score')\n",
    "plt.legend()\n",
    "plt.grid(True)\n",
    "plt.xticks(rotation=0)\n",
    "plt.show()\n"
   ]
  }
 ],
 "metadata": {
  "kernelspec": {
   "display_name": "base",
   "language": "python",
   "name": "python3"
  },
  "language_info": {
   "codemirror_mode": {
    "name": "ipython",
    "version": 3
   },
   "file_extension": ".py",
   "mimetype": "text/x-python",
   "name": "python",
   "nbconvert_exporter": "python",
   "pygments_lexer": "ipython3",
   "version": "3.9.18"
  }
 },
 "nbformat": 4,
 "nbformat_minor": 2
}
